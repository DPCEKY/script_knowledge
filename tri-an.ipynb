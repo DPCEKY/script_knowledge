{
 "cells": [
  {
   "cell_type": "code",
   "execution_count": 87,
   "metadata": {},
   "outputs": [
    {
     "name": "stdout",
     "output_type": "stream",
     "text": [
      "False\n"
     ]
    }
   ],
   "source": [
    "import torch\n",
    "import torch.nn as nn\n",
    "import torchtext\n",
    "from torchtext import data\n",
    "import spacy\n",
    "import os\n",
    "from torch.autograd import Variable\n",
    "\n",
    "USE_CUDA = torch.cuda.is_available()\n",
    "device = torch.device(\"cuda\" if USE_CUDA else \"cpu\")\n",
    "print(USE_CUDA)"
   ]
  },
  {
   "cell_type": "markdown",
   "metadata": {},
   "source": [
    "# Hyperparameters"
   ]
  },
  {
   "cell_type": "code",
   "execution_count": 66,
   "metadata": {},
   "outputs": [],
   "source": [
    "batch_size_train = 5\n",
    "batch_size_eval = 256\n",
    "emb_dim = 50\n",
    "embed_from = \"glove.6B.50d\"\n",
    "hidden_size = 100\n",
    "num_layers = 1\n",
    "rnn_dropout = 0"
   ]
  },
  {
   "cell_type": "markdown",
   "metadata": {},
   "source": [
    "# Load data\n",
    "refer to \n",
    "\n",
    "http://anie.me/On-Torchtext/\n",
    "\n",
    "http://mlexplained.com/2018/02/08/a-comprehensive-tutorial-to-torchtext/\n",
    "\n",
    "http://mlexplained.com/2018/02/15/language-modeling-tutorial-in-torchtext-practical-torchtext-part-2/"
   ]
  },
  {
   "cell_type": "code",
   "execution_count": 42,
   "metadata": {},
   "outputs": [],
   "source": [
    "data_dir = 'preprocessed'\n",
    "combined_fname = 'all-combined-data-processed.json'\n",
    "train_fname = 'train-trial-combined-data-processed.json'\n",
    "dev_fname = 'dev-data-processed.json'\n",
    "test_fname = 'test-data-processed.json'"
   ]
  },
  {
   "cell_type": "markdown",
   "metadata": {},
   "source": [
    "we have keys: 'id', 'd_words', 'd_pos', 'd_ner', 'q_words', 'q_pos', 'c_words', 'label', 'in_q', 'in_c', 'lemma_in_q', 'tf', 'p_q_relation', 'p_c_relation'"
   ]
  },
  {
   "cell_type": "code",
   "execution_count": 43,
   "metadata": {},
   "outputs": [
    {
     "name": "stdout",
     "output_type": "stream",
     "text": [
      "train: 20482, val: 2822, test: 5594\n"
     ]
    }
   ],
   "source": [
    "TEXT = data.ReversibleField(sequential=True, lower=True, include_lengths=True)\n",
    "\n",
    "train, val, test = data.TabularDataset.splits(\n",
    "    path=data_dir, train=train_fname,\n",
    "    validation=dev_fname, test=test_fname, format='json',\n",
    "    fields={'d_words': ('d_words', TEXT),\n",
    "            'q_words': ('q_words', TEXT),\n",
    "            'c_words': ('c_words', TEXT),\n",
    "            'label': ('label', data.Field(sequential=False, use_vocab=False))\n",
    "           })\n",
    "\n",
    "print('train: %d, val: %d, test: %d' % (len(train), len(val), len(test)))"
   ]
  },
  {
   "cell_type": "code",
   "execution_count": 44,
   "metadata": {},
   "outputs": [
    {
     "name": "stdout",
     "output_type": "stream",
     "text": [
      "vocab size: 10695\n"
     ]
    }
   ],
   "source": [
    "# combined is only used for building vocabulary\n",
    "combined = data.TabularDataset(\n",
    "    path=os.path.join(data_dir, combined_fname), format='json',\n",
    "    fields={'d_words': ('d_words', TEXT),\n",
    "            'q_words': ('q_words', TEXT),\n",
    "            'c_words': ('c_words', TEXT),\n",
    "            'label': ('label', data.Field(sequential=False, use_vocab=False))\n",
    "           })\n",
    "\n",
    "# TEXT.build_vocab(combined)\n",
    "TEXT.build_vocab(combined, vectors=embed_from)\n",
    "print('vocab size: %d' % len(TEXT.vocab))"
   ]
  },
  {
   "cell_type": "code",
   "execution_count": 45,
   "metadata": {},
   "outputs": [],
   "source": [
    "# train_iter, val_iter, test_iter = data.Iterator.splits(\n",
    "#         (train, val, test), sort_key=lambda x: len(x.d_words), \n",
    "#         batch_sizes=(batch_size_train, batch_size_eval, batch_size_eval), device=-1, \n",
    "#         sort_within_batch=True, repeat=False)\n",
    "\n",
    "train_iter, val_iter, test_iter = data.Iterator.splits(\n",
    "        (train, val, test), batch_sizes=(batch_size_train, batch_size_eval, batch_size_eval), device=device, \n",
    "        sort_within_batch=False, repeat=False)"
   ]
  },
  {
   "cell_type": "code",
   "execution_count": null,
   "metadata": {},
   "outputs": [],
   "source": []
  },
  {
   "cell_type": "markdown",
   "metadata": {},
   "source": [
    "# Create embedding"
   ]
  },
  {
   "cell_type": "code",
   "execution_count": 46,
   "metadata": {},
   "outputs": [
    {
     "data": {
      "text/plain": [
       "tensor([[ 0.0000,  0.0000,  0.0000,  ...,  0.0000,  0.0000,  0.0000],\n",
       "        [ 0.0000,  0.0000,  0.0000,  ...,  0.0000,  0.0000,  0.0000],\n",
       "        [ 0.4180,  0.2497, -0.4124,  ..., -0.1841, -0.1151, -0.7858],\n",
       "        ...,\n",
       "        [-0.1160,  1.1429,  0.0260,  ..., -0.8676,  0.0750,  0.8040],\n",
       "        [-0.5689,  0.9256,  0.7289,  ...,  0.7101, -0.2287,  1.4826],\n",
       "        [ 0.0000,  0.0000,  0.0000,  ...,  0.0000,  0.0000,  0.0000]])"
      ]
     },
     "execution_count": 46,
     "metadata": {},
     "output_type": "execute_result"
    }
   ],
   "source": [
    "embedding = nn.Embedding(len(TEXT.vocab), emb_dim)\n",
    "embedding.weight.data.copy_(TEXT.vocab.vectors)"
   ]
  },
  {
   "cell_type": "code",
   "execution_count": 47,
   "metadata": {},
   "outputs": [
    {
     "data": {
      "text/plain": [
       "torch.Size([10695, 50])"
      ]
     },
     "execution_count": 47,
     "metadata": {},
     "output_type": "execute_result"
    }
   ],
   "source": [
    "embedding.weight.shape"
   ]
  },
  {
   "cell_type": "markdown",
   "metadata": {},
   "source": [
    "# Build model\n",
    "refer to\n",
    "\n",
    "https://github.com/intfloat/commonsense-rc\n",
    "\n",
    "https://towardsdatascience.com/taming-lstms-variable-sized-mini-batches-and-why-pytorch-is-good-for-your-health-61d35642972e\n",
    "\n",
    "https://discuss.pytorch.org/t/solved-multiple-packedsequence-input-ordering/2106/23"
   ]
  },
  {
   "cell_type": "code",
   "execution_count": 147,
   "metadata": {},
   "outputs": [],
   "source": [
    "# lengths = torch.tensor([len(indices) for indices in indices_list], dtype=torch.long, device=device)\n",
    "# lengths_sorted, sorted_idx = lengths.sort(descending=True)\n",
    "\n",
    "# indices_padded = pad_lists(indices, padding_idx, dtype=torch.long, device=device) # custom function\n",
    "# indices_sorted = indices_padded[sorted_idx]\n",
    "\n",
    "# embeddings_padded = self.embedding(indices_sorted)\n",
    "# embeddings_packed = pack_padded_sequence(embeddings_padded, lengths_sorted.tolist(), batch_first=True)\n",
    "\n",
    "# h, (h_n, _) = self.lstm(embeddings_packed)\n",
    "\n",
    "# h, _ = pad_packed_sequence(h, batch_first=True, padding_value=padding_idx)\n",
    "\n",
    "# # Reverses sorting. \n",
    "# h = torch.zeros_like(h).scatter_(0, sorted_idx.unsqueeze(1).unsqueeze(1).expand(-1, h.shape[1], h.shape[2]), h)\n",
    "\n",
    "\n",
    "class VLBLSTM(nn.Module):\n",
    "    def __init__(self, input_dim, hidden_size, num_layers, rnn_dropout):\n",
    "        super(VLBLSTM, self).__init__()\n",
    "        self.hidden_size = hidden_size\n",
    "        self.num_layers = num_layers\n",
    "        self.lstm = nn.LSTM(\n",
    "            input_size=input_dim,\n",
    "            hidden_size=hidden_size,\n",
    "            num_layers=num_layers,\n",
    "            batch_first=True,\n",
    "            dropout=rnn_dropout,\n",
    "            bidirectional=True\n",
    "        )\n",
    "        \n",
    "    def init_hidden(self, batch_size):\n",
    "        # the weights are of the form (num_layers * 2, batch_size, hidden_size)\n",
    "        h0 = torch.randn(self.num_layers * 2, batch_size, self.hidden_size)\n",
    "        c0 = torch.randn(self.num_layers * 2, batch_size, self.hidden_size)\n",
    "\n",
    "        h0 = Variable(h0, requires_grad=False).to(device)\n",
    "        c0 = Variable(c0, requires_grad=False).to(device)\n",
    "\n",
    "        return (h0, c0)\n",
    "    \n",
    "    def forward(self, inputs, lengths):\n",
    "        # requires inputs to be batch first\n",
    "        \n",
    "        batch_size = inputs.shape[0]\n",
    "        h0, c0 = self.init_hidden(batch_size)\n",
    "        \n",
    "#         print(lengths)\n",
    "#         print(inputs)\n",
    "        \n",
    "        lengths_sorted, sorted_idx = lengths.sort(descending=True)\n",
    "        inputs_sorted = inputs[sorted_idx]\n",
    "        \n",
    "#         print('~'*80)\n",
    "#         print(lengths_sorted)\n",
    "#         print(inputs_sorted)\n",
    "\n",
    "        print(inputs_sorted.shape)\n",
    "        inputs_packed = nn.utils.rnn.pack_padded_sequence(inputs_sorted, lengths_sorted.tolist(), batch_first=True)\n",
    "        h, y = self.lstm(inputs_packed, (h0, c0))\n",
    "#         h, y = self.lstm(inputs_packed)\n",
    "        print(h)\n",
    "#         print(y.shape)\n",
    "        \n",
    "        \n",
    "        return None\n",
    "        \n",
    "\n",
    "# class TriAN(nn.Module):\n",
    "#     def __init__(self, embedding):\n",
    "#         super(TriAN, self).__init__()\n",
    "#         self.embedding = embedding\n",
    "#         self.doc_rnn = ???\n",
    "#         self.question_rnn = ???\n",
    "#         self.choice_rnn = ???"
   ]
  },
  {
   "cell_type": "code",
   "execution_count": 148,
   "metadata": {},
   "outputs": [],
   "source": [
    "rnn = VLBLSTM(emb_dim, hidden_size, num_layers, rnn_dropout)"
   ]
  },
  {
   "cell_type": "code",
   "execution_count": 149,
   "metadata": {},
   "outputs": [
    {
     "name": "stdout",
     "output_type": "stream",
     "text": [
      "torch.Size([5, 181, 50])\n",
      "PackedSequence(data=tensor([[ 0.2332, -0.2186, -0.1090,  ...,  0.0260, -0.0711,  0.0104],\n",
      "        [ 0.0996,  0.0185, -0.2400,  ...,  0.1251, -0.2101,  0.1141],\n",
      "        [-0.0199, -0.0138,  0.0613,  ...,  0.1251, -0.2101,  0.1141],\n",
      "        ...,\n",
      "        [-0.0062, -0.1765,  0.0739,  ..., -0.0228,  0.0320, -0.0119],\n",
      "        [-0.0062, -0.1765,  0.0739,  ..., -0.2049,  0.5399, -0.1181],\n",
      "        [-0.1133, -0.1470,  0.0147,  ...,  0.2422, -0.1199, -0.0799]],\n",
      "       grad_fn=<CatBackward>), batch_sizes=tensor([5, 5, 5, 5, 5, 5, 5, 5, 5, 5, 5, 5, 5, 5, 5, 5, 5, 5, 5, 5, 5, 5, 5, 5,\n",
      "        5, 5, 5, 5, 5, 5, 5, 5, 5, 5, 5, 5, 5, 5, 5, 5, 5, 5, 5, 5, 5, 5, 5, 5,\n",
      "        5, 5, 5, 5, 5, 5, 5, 5, 5, 5, 5, 5, 5, 5, 5, 5, 5, 5, 5, 5, 5, 5, 5, 5,\n",
      "        5, 5, 5, 5, 5, 5, 5, 5, 5, 5, 5, 5, 5, 5, 5, 5, 5, 5, 5, 5, 5, 5, 5, 5,\n",
      "        5, 5, 5, 5, 5, 5, 5, 5, 5, 5, 5, 5, 5, 5, 5, 5, 5, 5, 5, 5, 5, 5, 5, 5,\n",
      "        5, 5, 5, 5, 5, 5, 5, 5, 5, 5, 5, 5, 5, 5, 5, 5, 5, 5, 5, 5, 5, 5, 5, 5,\n",
      "        5, 5, 5, 5, 5, 5, 5, 5, 5, 5, 5, 5, 5, 5, 5, 5, 5, 5, 5, 5, 5, 5, 5, 5,\n",
      "        4, 4, 4, 3, 3, 3, 3, 3, 3, 3, 3, 3, 1]))\n"
     ]
    }
   ],
   "source": [
    "for i, batch in enumerate(train_iter):\n",
    "    d_words, d_lengths = batch.d_words\n",
    "    q_words, q_lengths = batch.q_words\n",
    "    c_words, c_lengths = batch.c_words\n",
    "    labels = batch.label\n",
    "    \n",
    "    # convert to batch first\n",
    "    d_words = torch.transpose(d_words, 0, 1)\n",
    "    q_words = torch.transpose(q_words, 0, 1)\n",
    "    c_words = torch.transpose(c_words, 0, 1)\n",
    "    \n",
    "    d_words_embed = embedding(d_words)\n",
    "    rnn(d_words_embed, d_lengths)\n",
    "    \n",
    "#     print(d_words.shape, d_lengths.shape, labels.shape)\n",
    "#     print(d_lengths)\n",
    "#     print(q_lengths)\n",
    "#     print(c_lengths)\n",
    "\n",
    "    if i == 0:\n",
    "        break"
   ]
  },
  {
   "cell_type": "code",
   "execution_count": null,
   "metadata": {},
   "outputs": [],
   "source": []
  },
  {
   "cell_type": "code",
   "execution_count": null,
   "metadata": {},
   "outputs": [],
   "source": []
  }
 ],
 "metadata": {
  "kernelspec": {
   "display_name": "Python 3",
   "language": "python",
   "name": "python3"
  },
  "language_info": {
   "codemirror_mode": {
    "name": "ipython",
    "version": 3
   },
   "file_extension": ".py",
   "mimetype": "text/x-python",
   "name": "python",
   "nbconvert_exporter": "python",
   "pygments_lexer": "ipython3",
   "version": "3.6.5"
  }
 },
 "nbformat": 4,
 "nbformat_minor": 2
}
