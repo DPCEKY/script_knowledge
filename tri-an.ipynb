{
 "cells": [
  {
   "cell_type": "code",
   "execution_count": 5,
   "metadata": {},
   "outputs": [
    {
     "name": "stdout",
     "output_type": "stream",
     "text": [
      "False\n"
     ]
    }
   ],
   "source": [
    "import numpy as np\n",
    "import torch\n",
    "# import torch.nn as nn\n",
    "# import torch.nn.functional as F\n",
    "# import torchtext\n",
    "# from torchtext import data\n",
    "# import spacy\n",
    "# import os\n",
    "# import time\n",
    "# import sys\n",
    "# from torch.autograd import Variable\n",
    "# from torch.optim import lr_scheduler\n",
    "\n",
    "USE_CUDA = torch.cuda.is_available()\n",
    "device = torch.device(\"cuda\" if USE_CUDA else \"cpu\")\n",
    "print(USE_CUDA)"
   ]
  },
  {
   "cell_type": "markdown",
   "metadata": {},
   "source": [
    "# Hyperparameters"
   ]
  },
  {
   "cell_type": "code",
   "execution_count": 28,
   "metadata": {},
   "outputs": [],
   "source": [
    "num_epoch = 20\n",
    "# batch_size_train = 32\n",
    "batch_size_train = 256\n",
    "batch_size_eval = 256\n",
    "embed_dim = 300\n",
    "# embed_from = \"glove.840B.300d\"\n",
    "hidden_size = 96\n",
    "num_layers = 1\n",
    "rnn_dropout_rate = 0\n",
    "embed_dropout_rate = 0.4\n",
    "grad_clipping = 10\n",
    "\n",
    "# rnn_output_dropout!!!"
   ]
  },
  {
   "cell_type": "markdown",
   "metadata": {},
   "source": [
    "# Load data\n",
    "refer to \n",
    "\n",
    "http://anie.me/On-Torchtext/\n",
    "\n",
    "http://mlexplained.com/2018/02/08/a-comprehensive-tutorial-to-torchtext/\n",
    "\n",
    "http://mlexplained.com/2018/02/15/language-modeling-tutorial-in-torchtext-practical-torchtext-part-2/"
   ]
  },
  {
   "cell_type": "code",
   "execution_count": 29,
   "metadata": {},
   "outputs": [],
   "source": [
    "data_dir = 'preprocessed'\n",
    "combined_fname = 'all-combined-data-processed.json'\n",
    "train_fname = 'train-trial-combined-data-processed.json'\n",
    "dev_fname = 'dev-data-processed.json'\n",
    "test_fname = 'test-data-processed.json'"
   ]
  },
  {
   "cell_type": "markdown",
   "metadata": {},
   "source": [
    "we have keys: 'id', 'd_words', 'd_pos', 'd_ner', 'q_words', 'q_pos', 'c_words', 'label', 'in_q', 'in_c', 'lemma_in_q', 'tf', 'p_q_relation', 'p_c_relation'"
   ]
  },
  {
   "cell_type": "code",
   "execution_count": null,
   "metadata": {},
   "outputs": [],
   "source": [
    "TEXT = data.ReversibleField(sequential=True, lower=True, include_lengths=True)\n",
    "\n",
    "train, val, test = data.TabularDataset.splits(\n",
    "    path=data_dir, train=train_fname,\n",
    "    validation=dev_fname, test=test_fname, format='json',\n",
    "    fields={'d_words': ('d_words', TEXT),\n",
    "            'q_words': ('q_words', TEXT),\n",
    "            'c_words': ('c_words', TEXT),\n",
    "            'label': ('label', data.Field(sequential=False, use_vocab=False))\n",
    "           })\n",
    "\n",
    "print('train: %d, val: %d, test: %d' % (len(train), len(val), len(test)))"
   ]
  },
  {
   "cell_type": "code",
   "execution_count": 31,
   "metadata": {},
   "outputs": [
    {
     "name": "stdout",
     "output_type": "stream",
     "text": [
      "vocab size: 10695\n"
     ]
    }
   ],
   "source": [
    "# combined is only used for building vocabulary\n",
    "combined = data.TabularDataset(\n",
    "    path=os.path.join(data_dir, combined_fname), format='json',\n",
    "    fields={'d_words': ('d_words', TEXT),\n",
    "            'q_words': ('q_words', TEXT),\n",
    "            'c_words': ('c_words', TEXT),\n",
    "            'label': ('label', data.Field(sequential=False, use_vocab=False))\n",
    "           })\n",
    "\n",
    "# specify the path to the localy saved vectors\n",
    "vec = torchtext.vocab.Vectors('glove.840B.300d.txt', data_dir)\n",
    "# TEXT.build_vocab(combined, vectors=embed_from)\n",
    "TEXT.build_vocab(combined, vectors=vec)\n",
    "print('vocab size: %d' % len(TEXT.vocab))"
   ]
  },
  {
   "cell_type": "code",
   "execution_count": 32,
   "metadata": {},
   "outputs": [],
   "source": [
    "train_iter, val_iter, test_iter = data.Iterator.splits(\n",
    "        (train, val, test), batch_sizes=(batch_size_train, batch_size_eval, batch_size_eval), device=device, \n",
    "        sort_within_batch=False, repeat=False)"
   ]
  },
  {
   "cell_type": "markdown",
   "metadata": {},
   "source": [
    "# Create embedding"
   ]
  },
  {
   "cell_type": "code",
   "execution_count": 33,
   "metadata": {},
   "outputs": [],
   "source": [
    "embedding = nn.Embedding(len(TEXT.vocab), embed_dim)\n",
    "embedding.weight.data.copy_(TEXT.vocab.vectors)\n",
    "embedding.weight.requires_grad=False\n",
    "embedding = embedding.to(device)"
   ]
  },
  {
   "cell_type": "code",
   "execution_count": 34,
   "metadata": {},
   "outputs": [
    {
     "data": {
      "text/plain": [
       "torch.Size([10695, 300])"
      ]
     },
     "execution_count": 34,
     "metadata": {},
     "output_type": "execute_result"
    }
   ],
   "source": [
    "embedding.weight.shape"
   ]
  },
  {
   "cell_type": "markdown",
   "metadata": {},
   "source": [
    "# Build model\n",
    "refer to\n",
    "\n",
    "https://github.com/intfloat/commonsense-rc\n",
    "\n",
    "https://towardsdatascience.com/taming-lstms-variable-sized-mini-batches-and-why-pytorch-is-good-for-your-health-61d35642972e\n",
    "\n",
    "https://discuss.pytorch.org/t/solved-multiple-packedsequence-input-ordering/2106/23"
   ]
  },
  {
   "cell_type": "code",
   "execution_count": 35,
   "metadata": {},
   "outputs": [],
   "source": [
    "class BLSTM(nn.Module):\n",
    "    def __init__(self, input_dim, hidden_size, num_layers, rnn_dropout_rate):\n",
    "        super(BLSTM, self).__init__()\n",
    "        self.hidden_size = hidden_size\n",
    "        self.num_layers = num_layers\n",
    "        self.lstm = nn.LSTM(\n",
    "            input_size=input_dim,\n",
    "            hidden_size=hidden_size,\n",
    "            num_layers=num_layers,\n",
    "            batch_first=True,\n",
    "            dropout=rnn_dropout_rate,\n",
    "            bidirectional=True\n",
    "        )\n",
    "    \n",
    "    def forward(self, inputs, lengths):\n",
    "        \"\"\"\n",
    "        take inputs (embedded and padded), return outputs from lstm\n",
    "        \n",
    "        :param inputs: (batch_size, seq_len, embed_dim)\n",
    "        :param lengths: (batch_size)\n",
    "        :return: (batch_size, seq_len, hidden_size * 2)\n",
    "        \"\"\"\n",
    "        lengths_sorted, sorted_idx = lengths.sort(descending=True)\n",
    "        inputs_sorted = inputs[sorted_idx]\n",
    "    \n",
    "        inputs_packed = nn.utils.rnn.pack_padded_sequence(inputs_sorted, lengths_sorted.tolist(), batch_first=True)\n",
    "        outputs_packed, _ = self.lstm(inputs_packed)\n",
    "        outputs, _ = nn.utils.rnn.pad_packed_sequence(outputs_packed, batch_first=True)\n",
    "        \n",
    "        # Reverses sorting. \n",
    "        outputs = torch.zeros_like(outputs)\\\n",
    "            .scatter_(0, sorted_idx.unsqueeze(1).unsqueeze(1)\n",
    "                      .expand(-1, outputs.shape[1], outputs.shape[2]), outputs)\n",
    "        \n",
    "        return outputs"
   ]
  },
  {
   "cell_type": "code",
   "execution_count": 36,
   "metadata": {},
   "outputs": [],
   "source": [
    "def lengths_to_mask(lengths, dtype=torch.uint8):\n",
    "    \"\"\"\n",
    "    \n",
    "    :param lengths: (batch_size)\n",
    "    :param dtype: \n",
    "    :return: (batch_size, max_len)\n",
    "    \"\"\"\n",
    "    max_len = lengths.max().item()\n",
    "    mask = torch.arange(max_len,\n",
    "                        dtype=lengths.dtype).expand(len(lengths), max_len) < lengths.unsqueeze(1)\n",
    "\n",
    "    mask = torch.as_tensor(mask, dtype=dtype, device=device)\n",
    "    mask = 1 - mask\n",
    "    return mask"
   ]
  },
  {
   "cell_type": "code",
   "execution_count": 37,
   "metadata": {},
   "outputs": [],
   "source": [
    "class SeqAttnContext(nn.Module):\n",
    "    def __init__(self, embed_dim):\n",
    "        super(SeqAttnContext, self).__init__()\n",
    "        \n",
    "        self.proj = nn.Sequential(\n",
    "            nn.Linear(embed_dim, embed_dim),\n",
    "            nn.ReLU()\n",
    "        )\n",
    "        \n",
    "        self.softmax = nn.Softmax(dim=2)\n",
    "\n",
    "    def forward(self, x, y, y_mask):\n",
    "        \"\"\"\n",
    "        calculate context vectors for x on y using attention on y\n",
    "        \n",
    "        :param x: (batch_size, x_seq_len, embed_dim)\n",
    "        :param y: (batch_size, y_seq_len, embed_dim)\n",
    "        :param y_lengths: (batch_size)\n",
    "        :return: (batch_size, x_seq_len, embed_dim)\n",
    "        \"\"\"\n",
    "        x_proj = self.proj(x)\n",
    "        y_proj = self.proj(y)\n",
    "        \n",
    "        scores = x_proj.bmm(y_proj.transpose(2, 1))\n",
    "        \n",
    "        # mask scores\n",
    "        y_mask = y_mask.unsqueeze(1).expand(scores.size())\n",
    "        \n",
    "        scores.data.masked_fill_(y_mask.data, -float('inf'))\n",
    "        weights = self.softmax(scores)\n",
    "        \n",
    "        # Take weighted average\n",
    "        contexts = weights.bmm(y)\n",
    "        # here, instead of using y, maybe use another projection of y in the future\n",
    "        \n",
    "        return contexts"
   ]
  },
  {
   "cell_type": "code",
   "execution_count": 38,
   "metadata": {},
   "outputs": [],
   "source": [
    "class BilinearAttnEncoder(nn.Module):\n",
    "    def __init__(self, x_dim, y_dim):\n",
    "        super(BilinearAttnEncoder, self).__init__()\n",
    "        self.linear = nn.Linear(y_dim, x_dim)\n",
    "        self.softmax = nn.Softmax(dim=1)\n",
    "    \n",
    "    def forward(self, x, y, x_mask):\n",
    "        \"\"\"\n",
    "        summarize x into single vectors using bilinear attention on y\n",
    "        \n",
    "        :param x: (batch_size, seq_len, x_dim)\n",
    "        :param y: (batch_size, y_dim)\n",
    "        :param x_mask: (batch_size, seq_len)\n",
    "        :return: \n",
    "        \"\"\"\n",
    "        y_proj = self.linear(y).unsqueeze(2)  # (batch_size, x_dim, 1)\n",
    "        scores = x.bmm(y_proj).squeeze(2)\n",
    "        \n",
    "        scores.data.masked_fill_(x_mask.data, -float('inf'))\n",
    "        weights = self.softmax(scores) # (batch_size, seq_len)\n",
    "        \n",
    "        return weights.unsqueeze(1).bmm(x).squeeze(1)"
   ]
  },
  {
   "cell_type": "code",
   "execution_count": 39,
   "metadata": {},
   "outputs": [],
   "source": [
    "class SelfAttnEncoder(nn.Module):\n",
    "    def __init__(self, input_dim):\n",
    "        super(SelfAttnEncoder, self).__init__()\n",
    "        self.linear = nn.Linear(input_dim, 1)\n",
    "        self.softmax = nn.Softmax(dim=1)\n",
    "        \n",
    "    def forward(self, inputs, mask):\n",
    "        \"\"\"\n",
    "        Summarize inputs into single vectors using self attention\n",
    "        \n",
    "        :param self: \n",
    "        :param inputs: (batch_size, seq_len, input_dim)\n",
    "        :param mask: (batch_size, seq_len)\n",
    "        :return: (batch_size, input_dim)\n",
    "        \"\"\"\n",
    "        scores = self.linear(inputs).squeeze(2)\n",
    "        scores.data.masked_fill_(mask.data, -float('inf'))\n",
    "        weights = self.softmax(scores) # (batch_size, seq_len)\n",
    "        \n",
    "        return weights.unsqueeze(1).bmm(inputs).squeeze(1)"
   ]
  },
  {
   "cell_type": "code",
   "execution_count": 85,
   "metadata": {},
   "outputs": [],
   "source": [
    "class Bilinear(nn.Module):\n",
    "    def __init__(self, x_dim, y_dim):\n",
    "        super(Bilinear, self).__init__()\n",
    "        self.linear = nn.Linear(x_dim, y_dim)\n",
    "    \n",
    "    def forward(self, x, y):\n",
    "        \"\"\"\n",
    "        Calculate the biliear function x*W*y\n",
    "        \n",
    "        :param x: (batch_size, x_dim)\n",
    "        :param y: (batch_size, y_dim)\n",
    "        :return: (batch_size)\n",
    "        \"\"\"\n",
    "        xW = self.linear(x)  # (batch_size, y_dim)\n",
    "        return xW.unsqueeze(1).bmm(y.unsqueeze(2)).view(-1)"
   ]
  },
  {
   "cell_type": "code",
   "execution_count": 86,
   "metadata": {},
   "outputs": [],
   "source": [
    "class TriAn(nn.Module):\n",
    "    def __init__(self, embedding):\n",
    "        super(TriAn, self).__init__()\n",
    "        self.embedding = embedding\n",
    "        self.d_rnn = BLSTM(embed_dim * 2, hidden_size, num_layers, rnn_dropout_rate)\n",
    "        self.q_rnn = BLSTM(embed_dim, hidden_size, num_layers, rnn_dropout_rate)\n",
    "        self.c_rnn = BLSTM(embed_dim * 3, hidden_size, num_layers, rnn_dropout_rate)\n",
    "        \n",
    "        self.embed_dropout = nn.Dropout(embed_dropout_rate)\n",
    "        \n",
    "        self.d_on_q_attn = SeqAttnContext(embed_dim)\n",
    "        self.c_on_q_attn = SeqAttnContext(embed_dim)\n",
    "        self.c_on_d_attn = SeqAttnContext(embed_dim)\n",
    "        \n",
    "        self.d_on_q_encode = BilinearAttnEncoder(hidden_size * 2, hidden_size * 2)\n",
    "        self.q_encode = SelfAttnEncoder(hidden_size * 2)\n",
    "        self.c_encode = SelfAttnEncoder(hidden_size * 2)\n",
    "        \n",
    "        self.d_c_bilinear = Bilinear(hidden_size * 2, hidden_size * 2)\n",
    "        self.q_c_bilinear = Bilinear(hidden_size * 2, hidden_size * 2)\n",
    "        \n",
    "        self.sigmoid = nn.Sigmoid()\n",
    "        \n",
    "        \n",
    "        \n",
    "        # for debugging\n",
    "        self.d_lstm = nn.LSTM(\n",
    "            input_size=embed_dim * 2,\n",
    "            hidden_size=hidden_size,\n",
    "            num_layers=num_layers,\n",
    "            batch_first=True,\n",
    "            dropout=rnn_dropout_rate,\n",
    "            bidirectional=True\n",
    "        )\n",
    "        self.q_lstm = nn.LSTM(\n",
    "            input_size=embed_dim,\n",
    "            hidden_size=hidden_size,\n",
    "            num_layers=num_layers,\n",
    "            batch_first=True,\n",
    "            dropout=rnn_dropout_rate,\n",
    "            bidirectional=True\n",
    "        )\n",
    "        self.c_lstm = nn.LSTM(\n",
    "            input_size=embed_dim * 3,\n",
    "            hidden_size=hidden_size,\n",
    "            num_layers=num_layers,\n",
    "            batch_first=True,\n",
    "            dropout=rnn_dropout_rate,\n",
    "            bidirectional=True\n",
    "        )\n",
    "        \n",
    "        self.d_linear = nn.Linear(embed_dim * 2, 2*hidden_size)\n",
    "        self.q_linear = nn.Linear(embed_dim, 2*hidden_size)\n",
    "        self.c_linear = nn.Linear(embed_dim * 3, 2*hidden_size)\n",
    "    \n",
    "    def forward(self, d_words, d_lengths, q_words, q_lengths, c_words, c_lengths):\n",
    "        # embed inputs\n",
    "        d_embed, q_embed, c_embed = self.embedding(d_words), \\\n",
    "            self.embedding(q_words), self.embedding(c_words)\n",
    "        d_embed, q_embed, c_embed = self.embed_dropout(d_embed), self.embed_dropout(q_embed),\\\n",
    "            self.embed_dropout(c_embed)\n",
    "        \n",
    "        # get masks\n",
    "        d_mask = lengths_to_mask(d_lengths)\n",
    "        q_mask = lengths_to_mask(q_lengths)\n",
    "        c_mask = lengths_to_mask(c_lengths)\n",
    "        \n",
    "        # get attention contexts\n",
    "        d_on_q_contexts = self.embed_dropout(self.d_on_q_attn(d_embed, q_embed, q_mask))\n",
    "        c_on_q_contexts = self.embed_dropout(self.c_on_q_attn(c_embed, q_embed, q_mask))\n",
    "        c_on_d_contexts = self.embed_dropout(self.c_on_d_attn(c_embed, d_embed, d_mask))\n",
    "        \n",
    "        # form final inputs for rnns\n",
    "        d_rnn_inputs = torch.cat([d_embed, d_on_q_contexts], dim=2)\n",
    "        q_rnn_inputs = torch.cat([q_embed], dim=2)\n",
    "        c_rnn_inputs = torch.cat([c_embed, c_on_q_contexts, c_on_d_contexts], dim=2)\n",
    "        \n",
    "#         # calculate rnn outputs\n",
    "#         d_rnn_outputs = self.d_rnn(d_rnn_inputs, d_lengths)\n",
    "#         q_rnn_outputs = self.q_rnn(q_rnn_inputs, q_lengths)\n",
    "#         c_rnn_outputs = self.c_rnn(c_rnn_inputs, c_lengths)\n",
    "\n",
    "        # for debugging\n",
    "        \n",
    "#         # calculate rnn outputs\n",
    "#         d_rnn_outputs, _ = self.d_lstm(d_rnn_inputs)\n",
    "#         q_rnn_outputs, _ = self.q_lstm(q_rnn_inputs)\n",
    "#         c_rnn_outputs, _ = self.c_lstm(c_rnn_inputs)\n",
    "\n",
    "        d_rnn_outputs = self.d_linear(d_rnn_inputs)\n",
    "        q_rnn_outputs = self.q_linear(q_rnn_inputs)\n",
    "        c_rnn_outputs = self.c_linear(c_rnn_inputs)\n",
    "        \n",
    "        # for debugging\n",
    "        \n",
    "        \n",
    "        \n",
    "        # get final representations\n",
    "        q_rep = self.q_encode(q_rnn_outputs, q_mask)\n",
    "        c_rep = self.c_encode(c_rnn_outputs, c_mask)\n",
    "        d_rep = self.d_on_q_encode(d_rnn_outputs, q_rep, d_mask)\n",
    "        \n",
    "        dWc = self.d_c_bilinear(d_rep, c_rep)\n",
    "        qWc = self.q_c_bilinear(q_rep, c_rep)\n",
    "        \n",
    "        logits = dWc + qWc\n",
    "        return self.sigmoid(logits)"
   ]
  },
  {
   "cell_type": "code",
   "execution_count": 87,
   "metadata": {},
   "outputs": [],
   "source": [
    "model = TriAn(embedding).to(device)\n",
    "\n",
    "criterion = nn.BCELoss().to(device)\n",
    "optimizer = torch.optim.SGD(model.parameters(), lr=0.1, momentum=0.9, weight_decay=1e-4)\n",
    "scheduler = lr_scheduler.StepLR(optimizer, step_size=6, gamma=0.1)"
   ]
  },
  {
   "cell_type": "markdown",
   "metadata": {},
   "source": [
    "# Train and test model"
   ]
  },
  {
   "cell_type": "code",
   "execution_count": 88,
   "metadata": {},
   "outputs": [],
   "source": [
    "def get_accuaracy(outputs, labels):\n",
    "    preds = (outputs > 0.5).float()\n",
    "    acc = torch.mean((preds==labels).float())\n",
    "    return acc"
   ]
  },
  {
   "cell_type": "code",
   "execution_count": 89,
   "metadata": {},
   "outputs": [],
   "source": [
    "def parse_batch(batch):\n",
    "    d_words, d_lengths = batch.d_words\n",
    "    q_words, q_lengths = batch.q_words\n",
    "    c_words, c_lengths = batch.c_words\n",
    "\n",
    "    d_words, d_lengths = torch.transpose(d_words, 0, 1).to(device), d_lengths.to(device)\n",
    "    q_words, q_lengths = torch.transpose(q_words, 0, 1).to(device), q_lengths.to(device)\n",
    "    c_words, c_lengths = torch.transpose(c_words, 0, 1).to(device), c_lengths.to(device)\n",
    "\n",
    "    labels = batch.label.float().to(device)\n",
    "    \n",
    "    return d_words, d_lengths, q_words, q_lengths, c_words, c_lengths, labels"
   ]
  },
  {
   "cell_type": "code",
   "execution_count": 90,
   "metadata": {},
   "outputs": [],
   "source": [
    "def train_epoch():\n",
    "    scheduler.step()\n",
    "    model.train()\n",
    "    \n",
    "    epoch_losses = []\n",
    "    epoch_accus = []\n",
    "    \n",
    "    for i, batch in enumerate(train_iter):\n",
    "        start = time.time()\n",
    "        # get batch\n",
    "        d_words, d_lengths, q_words, q_lengths, \\\n",
    "            c_words, c_lengths, labels = parse_batch(batch)\n",
    "        \n",
    "        # get outputs and loss\n",
    "        optimizer.zero_grad()\n",
    "        outputs = model(d_words, d_lengths, q_words, q_lengths, c_words, c_lengths)\n",
    "        loss = criterion(outputs, labels)\n",
    "        \n",
    "        mid = time.time()\n",
    "        \n",
    "        # update model\n",
    "        loss.to(device)\n",
    "        loss.backward()\n",
    "        \n",
    "        _ = torch.nn.utils.clip_grad_norm_(model.parameters(), grad_clipping)\n",
    "        optimizer.step()\n",
    "        \n",
    "        # record losses and accuracies\n",
    "        epoch_losses.append(loss.item())\n",
    "        accu = get_accuaracy(outputs, labels)\n",
    "        epoch_accus.append(accu.item())\n",
    "        \n",
    "        end = time.time()\n",
    "        print(i, mid-start, end-mid)\n",
    "#         break\n",
    "    \n",
    "    accu_avg = np.mean(np.array(epoch_accus))\n",
    "    loss_avg = np.mean(np.array(epoch_losses))\n",
    "    \n",
    "    return accu_avg, loss_avg"
   ]
  },
  {
   "cell_type": "code",
   "execution_count": 91,
   "metadata": {},
   "outputs": [],
   "source": [
    "def eval_epoch():\n",
    "    model.eval()\n",
    "    \n",
    "    epoch_losses = []\n",
    "    epoch_accus = []\n",
    "    \n",
    "    for batch in val_iter:\n",
    "        # get batch\n",
    "        d_words, d_lengths, q_words, q_lengths, \\\n",
    "            c_words, c_lengths, labels = parse_batch(batch)\n",
    "        \n",
    "        # eval\n",
    "        with torch.no_grad():\n",
    "            outputs = model(d_words, d_lengths, q_words, q_lengths, c_words, c_lengths)\n",
    "            loss = criterion(outputs, labels)\n",
    "            # record losses and accuracies\n",
    "            epoch_losses.append(loss.item())\n",
    "            accu = get_accuaracy(outputs, labels)\n",
    "            epoch_accus.append(accu.item())\n",
    "#             break\n",
    "    \n",
    "    accu_avg = np.mean(np.array(epoch_accus))\n",
    "    loss_avg = np.mean(np.array(epoch_losses))\n",
    "    \n",
    "    return accu_avg, loss_avg"
   ]
  },
  {
   "cell_type": "code",
   "execution_count": 92,
   "metadata": {},
   "outputs": [
    {
     "name": "stdout",
     "output_type": "stream",
     "text": [
      "~~~~~~~~~~~~~~~~~~~~~~~~~~~~~~~~~~~~~~~~~~~~~~~~~~~~~~~~~~~~~~~~~~~~~~~~~~~~~~~~\n",
      "0 1.8468403816223145 1.8343493938446045\n",
      "1 1.5176870822906494 1.5858683586120605\n",
      "2 1.5389373302459717 1.608985185623169\n",
      "3 1.5094382762908936 1.5851149559020996\n",
      "4 1.7474596500396729 1.7057065963745117\n",
      "5 1.2890233993530273 1.3782761096954346\n"
     ]
    },
    {
     "ename": "KeyboardInterrupt",
     "evalue": "",
     "output_type": "error",
     "traceback": [
      "\u001b[0;31m---------------------------------------------------------------------------\u001b[0m",
      "\u001b[0;31mKeyboardInterrupt\u001b[0m                         Traceback (most recent call last)",
      "\u001b[0;32m<ipython-input-92-fbff6222aee9>\u001b[0m in \u001b[0;36m<module>\u001b[0;34m()\u001b[0m\n\u001b[1;32m      4\u001b[0m     \u001b[0mstart\u001b[0m \u001b[0;34m=\u001b[0m \u001b[0mtime\u001b[0m\u001b[0;34m.\u001b[0m\u001b[0mtime\u001b[0m\u001b[0;34m(\u001b[0m\u001b[0;34m)\u001b[0m\u001b[0;34m\u001b[0m\u001b[0m\n\u001b[1;32m      5\u001b[0m \u001b[0;34m\u001b[0m\u001b[0m\n\u001b[0;32m----> 6\u001b[0;31m     \u001b[0mtrain_accu\u001b[0m\u001b[0;34m,\u001b[0m \u001b[0mtrain_loss\u001b[0m \u001b[0;34m=\u001b[0m \u001b[0mtrain_epoch\u001b[0m\u001b[0;34m(\u001b[0m\u001b[0;34m)\u001b[0m\u001b[0;34m\u001b[0m\u001b[0m\n\u001b[0m\u001b[1;32m      7\u001b[0m     \u001b[0meval_accu\u001b[0m\u001b[0;34m,\u001b[0m \u001b[0meval_loss\u001b[0m \u001b[0;34m=\u001b[0m \u001b[0meval_epoch\u001b[0m\u001b[0;34m(\u001b[0m\u001b[0;34m)\u001b[0m\u001b[0;34m\u001b[0m\u001b[0m\n\u001b[1;32m      8\u001b[0m \u001b[0;34m\u001b[0m\u001b[0m\n",
      "\u001b[0;32m<ipython-input-90-7046765605f1>\u001b[0m in \u001b[0;36mtrain_epoch\u001b[0;34m()\u001b[0m\n\u001b[1;32m     13\u001b[0m         \u001b[0;31m# get outputs and loss\u001b[0m\u001b[0;34m\u001b[0m\u001b[0;34m\u001b[0m\u001b[0m\n\u001b[1;32m     14\u001b[0m         \u001b[0mmodel\u001b[0m\u001b[0;34m.\u001b[0m\u001b[0mzero_grad\u001b[0m\u001b[0;34m(\u001b[0m\u001b[0;34m)\u001b[0m\u001b[0;34m\u001b[0m\u001b[0m\n\u001b[0;32m---> 15\u001b[0;31m         \u001b[0moutputs\u001b[0m \u001b[0;34m=\u001b[0m \u001b[0mmodel\u001b[0m\u001b[0;34m(\u001b[0m\u001b[0md_words\u001b[0m\u001b[0;34m,\u001b[0m \u001b[0md_lengths\u001b[0m\u001b[0;34m,\u001b[0m \u001b[0mq_words\u001b[0m\u001b[0;34m,\u001b[0m \u001b[0mq_lengths\u001b[0m\u001b[0;34m,\u001b[0m \u001b[0mc_words\u001b[0m\u001b[0;34m,\u001b[0m \u001b[0mc_lengths\u001b[0m\u001b[0;34m)\u001b[0m\u001b[0;34m\u001b[0m\u001b[0m\n\u001b[0m\u001b[1;32m     16\u001b[0m         \u001b[0mloss\u001b[0m \u001b[0;34m=\u001b[0m \u001b[0mcriterion\u001b[0m\u001b[0;34m(\u001b[0m\u001b[0moutputs\u001b[0m\u001b[0;34m,\u001b[0m \u001b[0mlabels\u001b[0m\u001b[0;34m)\u001b[0m\u001b[0;34m\u001b[0m\u001b[0m\n\u001b[1;32m     17\u001b[0m \u001b[0;34m\u001b[0m\u001b[0m\n",
      "\u001b[0;32m~/anaconda3/envs/pytorch_p36/lib/python3.6/site-packages/torch/nn/modules/module.py\u001b[0m in \u001b[0;36m__call__\u001b[0;34m(self, *input, **kwargs)\u001b[0m\n\u001b[1;32m    487\u001b[0m             \u001b[0mresult\u001b[0m \u001b[0;34m=\u001b[0m \u001b[0mself\u001b[0m\u001b[0;34m.\u001b[0m\u001b[0m_slow_forward\u001b[0m\u001b[0;34m(\u001b[0m\u001b[0;34m*\u001b[0m\u001b[0minput\u001b[0m\u001b[0;34m,\u001b[0m \u001b[0;34m**\u001b[0m\u001b[0mkwargs\u001b[0m\u001b[0;34m)\u001b[0m\u001b[0;34m\u001b[0m\u001b[0m\n\u001b[1;32m    488\u001b[0m         \u001b[0;32melse\u001b[0m\u001b[0;34m:\u001b[0m\u001b[0;34m\u001b[0m\u001b[0m\n\u001b[0;32m--> 489\u001b[0;31m             \u001b[0mresult\u001b[0m \u001b[0;34m=\u001b[0m \u001b[0mself\u001b[0m\u001b[0;34m.\u001b[0m\u001b[0mforward\u001b[0m\u001b[0;34m(\u001b[0m\u001b[0;34m*\u001b[0m\u001b[0minput\u001b[0m\u001b[0;34m,\u001b[0m \u001b[0;34m**\u001b[0m\u001b[0mkwargs\u001b[0m\u001b[0;34m)\u001b[0m\u001b[0;34m\u001b[0m\u001b[0m\n\u001b[0m\u001b[1;32m    490\u001b[0m         \u001b[0;32mfor\u001b[0m \u001b[0mhook\u001b[0m \u001b[0;32min\u001b[0m \u001b[0mself\u001b[0m\u001b[0;34m.\u001b[0m\u001b[0m_forward_hooks\u001b[0m\u001b[0;34m.\u001b[0m\u001b[0mvalues\u001b[0m\u001b[0;34m(\u001b[0m\u001b[0;34m)\u001b[0m\u001b[0;34m:\u001b[0m\u001b[0;34m\u001b[0m\u001b[0m\n\u001b[1;32m    491\u001b[0m             \u001b[0mhook_result\u001b[0m \u001b[0;34m=\u001b[0m \u001b[0mhook\u001b[0m\u001b[0;34m(\u001b[0m\u001b[0mself\u001b[0m\u001b[0;34m,\u001b[0m \u001b[0minput\u001b[0m\u001b[0;34m,\u001b[0m \u001b[0mresult\u001b[0m\u001b[0;34m)\u001b[0m\u001b[0;34m\u001b[0m\u001b[0m\n",
      "\u001b[0;32m<ipython-input-86-4075b799a3aa>\u001b[0m in \u001b[0;36mforward\u001b[0;34m(self, d_words, d_lengths, q_words, q_lengths, c_words, c_lengths)\u001b[0m\n\u001b[1;32m     57\u001b[0m         \u001b[0;31m# embed inputs\u001b[0m\u001b[0;34m\u001b[0m\u001b[0;34m\u001b[0m\u001b[0m\n\u001b[1;32m     58\u001b[0m         \u001b[0md_embed\u001b[0m\u001b[0;34m,\u001b[0m \u001b[0mq_embed\u001b[0m\u001b[0;34m,\u001b[0m \u001b[0mc_embed\u001b[0m \u001b[0;34m=\u001b[0m \u001b[0mself\u001b[0m\u001b[0;34m.\u001b[0m\u001b[0membedding\u001b[0m\u001b[0;34m(\u001b[0m\u001b[0md_words\u001b[0m\u001b[0;34m)\u001b[0m\u001b[0;34m,\u001b[0m             \u001b[0mself\u001b[0m\u001b[0;34m.\u001b[0m\u001b[0membedding\u001b[0m\u001b[0;34m(\u001b[0m\u001b[0mq_words\u001b[0m\u001b[0;34m)\u001b[0m\u001b[0;34m,\u001b[0m \u001b[0mself\u001b[0m\u001b[0;34m.\u001b[0m\u001b[0membedding\u001b[0m\u001b[0;34m(\u001b[0m\u001b[0mc_words\u001b[0m\u001b[0;34m)\u001b[0m\u001b[0;34m\u001b[0m\u001b[0m\n\u001b[0;32m---> 59\u001b[0;31m         \u001b[0md_embed\u001b[0m\u001b[0;34m,\u001b[0m \u001b[0mq_embed\u001b[0m\u001b[0;34m,\u001b[0m \u001b[0mc_embed\u001b[0m \u001b[0;34m=\u001b[0m \u001b[0mself\u001b[0m\u001b[0;34m.\u001b[0m\u001b[0membed_dropout\u001b[0m\u001b[0;34m(\u001b[0m\u001b[0md_embed\u001b[0m\u001b[0;34m)\u001b[0m\u001b[0;34m,\u001b[0m \u001b[0mself\u001b[0m\u001b[0;34m.\u001b[0m\u001b[0membed_dropout\u001b[0m\u001b[0;34m(\u001b[0m\u001b[0mq_embed\u001b[0m\u001b[0;34m)\u001b[0m\u001b[0;34m,\u001b[0m            \u001b[0mself\u001b[0m\u001b[0;34m.\u001b[0m\u001b[0membed_dropout\u001b[0m\u001b[0;34m(\u001b[0m\u001b[0mc_embed\u001b[0m\u001b[0;34m)\u001b[0m\u001b[0;34m\u001b[0m\u001b[0m\n\u001b[0m\u001b[1;32m     60\u001b[0m \u001b[0;34m\u001b[0m\u001b[0m\n\u001b[1;32m     61\u001b[0m         \u001b[0;31m# get masks\u001b[0m\u001b[0;34m\u001b[0m\u001b[0;34m\u001b[0m\u001b[0m\n",
      "\u001b[0;32m~/anaconda3/envs/pytorch_p36/lib/python3.6/site-packages/torch/nn/modules/module.py\u001b[0m in \u001b[0;36m__call__\u001b[0;34m(self, *input, **kwargs)\u001b[0m\n\u001b[1;32m    487\u001b[0m             \u001b[0mresult\u001b[0m \u001b[0;34m=\u001b[0m \u001b[0mself\u001b[0m\u001b[0;34m.\u001b[0m\u001b[0m_slow_forward\u001b[0m\u001b[0;34m(\u001b[0m\u001b[0;34m*\u001b[0m\u001b[0minput\u001b[0m\u001b[0;34m,\u001b[0m \u001b[0;34m**\u001b[0m\u001b[0mkwargs\u001b[0m\u001b[0;34m)\u001b[0m\u001b[0;34m\u001b[0m\u001b[0m\n\u001b[1;32m    488\u001b[0m         \u001b[0;32melse\u001b[0m\u001b[0;34m:\u001b[0m\u001b[0;34m\u001b[0m\u001b[0m\n\u001b[0;32m--> 489\u001b[0;31m             \u001b[0mresult\u001b[0m \u001b[0;34m=\u001b[0m \u001b[0mself\u001b[0m\u001b[0;34m.\u001b[0m\u001b[0mforward\u001b[0m\u001b[0;34m(\u001b[0m\u001b[0;34m*\u001b[0m\u001b[0minput\u001b[0m\u001b[0;34m,\u001b[0m \u001b[0;34m**\u001b[0m\u001b[0mkwargs\u001b[0m\u001b[0;34m)\u001b[0m\u001b[0;34m\u001b[0m\u001b[0m\n\u001b[0m\u001b[1;32m    490\u001b[0m         \u001b[0;32mfor\u001b[0m \u001b[0mhook\u001b[0m \u001b[0;32min\u001b[0m \u001b[0mself\u001b[0m\u001b[0;34m.\u001b[0m\u001b[0m_forward_hooks\u001b[0m\u001b[0;34m.\u001b[0m\u001b[0mvalues\u001b[0m\u001b[0;34m(\u001b[0m\u001b[0;34m)\u001b[0m\u001b[0;34m:\u001b[0m\u001b[0;34m\u001b[0m\u001b[0m\n\u001b[1;32m    491\u001b[0m             \u001b[0mhook_result\u001b[0m \u001b[0;34m=\u001b[0m \u001b[0mhook\u001b[0m\u001b[0;34m(\u001b[0m\u001b[0mself\u001b[0m\u001b[0;34m,\u001b[0m \u001b[0minput\u001b[0m\u001b[0;34m,\u001b[0m \u001b[0mresult\u001b[0m\u001b[0;34m)\u001b[0m\u001b[0;34m\u001b[0m\u001b[0m\n",
      "\u001b[0;32m~/anaconda3/envs/pytorch_p36/lib/python3.6/site-packages/torch/nn/modules/dropout.py\u001b[0m in \u001b[0;36mforward\u001b[0;34m(self, input)\u001b[0m\n\u001b[1;32m     56\u001b[0m     \u001b[0;34m@\u001b[0m\u001b[0mweak_script_method\u001b[0m\u001b[0;34m\u001b[0m\u001b[0m\n\u001b[1;32m     57\u001b[0m     \u001b[0;32mdef\u001b[0m \u001b[0mforward\u001b[0m\u001b[0;34m(\u001b[0m\u001b[0mself\u001b[0m\u001b[0;34m,\u001b[0m \u001b[0minput\u001b[0m\u001b[0;34m)\u001b[0m\u001b[0;34m:\u001b[0m\u001b[0;34m\u001b[0m\u001b[0m\n\u001b[0;32m---> 58\u001b[0;31m         \u001b[0;32mreturn\u001b[0m \u001b[0mF\u001b[0m\u001b[0;34m.\u001b[0m\u001b[0mdropout\u001b[0m\u001b[0;34m(\u001b[0m\u001b[0minput\u001b[0m\u001b[0;34m,\u001b[0m \u001b[0mself\u001b[0m\u001b[0;34m.\u001b[0m\u001b[0mp\u001b[0m\u001b[0;34m,\u001b[0m \u001b[0mself\u001b[0m\u001b[0;34m.\u001b[0m\u001b[0mtraining\u001b[0m\u001b[0;34m,\u001b[0m \u001b[0mself\u001b[0m\u001b[0;34m.\u001b[0m\u001b[0minplace\u001b[0m\u001b[0;34m)\u001b[0m\u001b[0;34m\u001b[0m\u001b[0m\n\u001b[0m\u001b[1;32m     59\u001b[0m \u001b[0;34m\u001b[0m\u001b[0m\n\u001b[1;32m     60\u001b[0m \u001b[0;34m\u001b[0m\u001b[0m\n",
      "\u001b[0;32m~/anaconda3/envs/pytorch_p36/lib/python3.6/site-packages/torch/nn/functional.py\u001b[0m in \u001b[0;36mdropout\u001b[0;34m(input, p, training, inplace)\u001b[0m\n\u001b[1;32m    747\u001b[0m     return (_VF.dropout_(input, p, training)\n\u001b[1;32m    748\u001b[0m             \u001b[0;32mif\u001b[0m \u001b[0minplace\u001b[0m\u001b[0;34m\u001b[0m\u001b[0m\n\u001b[0;32m--> 749\u001b[0;31m             else _VF.dropout(input, p, training))\n\u001b[0m\u001b[1;32m    750\u001b[0m \u001b[0;34m\u001b[0m\u001b[0m\n\u001b[1;32m    751\u001b[0m \u001b[0;34m\u001b[0m\u001b[0m\n",
      "\u001b[0;31mKeyboardInterrupt\u001b[0m: "
     ]
    }
   ],
   "source": [
    "# training loop\n",
    "for epoch in range(num_epoch):\n",
    "    print('~' * 80)\n",
    "    start = time.time()\n",
    "    \n",
    "    train_accu, train_loss = train_epoch()\n",
    "    eval_accu, eval_loss = eval_epoch()\n",
    "    \n",
    "    end = time.time()\n",
    "    print('{}th iteration took {}'.format(epoch, end - start))\n",
    "    print('train_loss:', train_loss)\n",
    "    print('eval_loss:', eval_loss)\n",
    "    print('train_accuracy:', train_accu)\n",
    "    print('eval_accuracy:', eval_accu)\n",
    "    sys.stdout.flush()"
   ]
  },
  {
   "cell_type": "code",
   "execution_count": null,
   "metadata": {},
   "outputs": [],
   "source": []
  },
  {
   "cell_type": "code",
   "execution_count": null,
   "metadata": {},
   "outputs": [],
   "source": []
  }
 ],
 "metadata": {
  "kernelspec": {
   "display_name": "Python 3",
   "language": "python",
   "name": "python3"
  },
  "language_info": {
   "codemirror_mode": {
    "name": "ipython",
    "version": 3
   },
   "file_extension": ".py",
   "mimetype": "text/x-python",
   "name": "python",
   "nbconvert_exporter": "python",
   "pygments_lexer": "ipython3",
   "version": "3.6.5"
  }
 },
 "nbformat": 4,
 "nbformat_minor": 2
}
