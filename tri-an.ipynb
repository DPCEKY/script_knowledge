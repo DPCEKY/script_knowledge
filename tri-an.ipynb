{
 "cells": [
  {
   "cell_type": "code",
   "execution_count": 111,
   "metadata": {},
   "outputs": [
    {
     "name": "stdout",
     "output_type": "stream",
     "text": [
      "False\n"
     ]
    }
   ],
   "source": [
    "import torch\n",
    "import torch.nn as nn\n",
    "import torch.nn.functional as F\n",
    "import torchtext\n",
    "from torchtext import data\n",
    "import spacy\n",
    "import os\n",
    "from torch.autograd import Variable\n",
    "\n",
    "USE_CUDA = torch.cuda.is_available()\n",
    "device = torch.device(\"cuda\" if USE_CUDA else \"cpu\")\n",
    "print(USE_CUDA)"
   ]
  },
  {
   "cell_type": "markdown",
   "metadata": {},
   "source": [
    "# Hyperparameters"
   ]
  },
  {
   "cell_type": "code",
   "execution_count": 112,
   "metadata": {},
   "outputs": [],
   "source": [
    "batch_size_train = 5\n",
    "batch_size_eval = 256\n",
    "embed_dim = 50\n",
    "embed_from = \"glove.6B.50d\"\n",
    "hidden_size = 96\n",
    "num_layers = 1\n",
    "rnn_dropout_rate = 0\n",
    "embed_dropout_rate = 0.4\n",
    "\n",
    "# grad_clipping!!!!"
   ]
  },
  {
   "cell_type": "markdown",
   "metadata": {},
   "source": [
    "# Load data\n",
    "refer to \n",
    "\n",
    "http://anie.me/On-Torchtext/\n",
    "\n",
    "http://mlexplained.com/2018/02/08/a-comprehensive-tutorial-to-torchtext/\n",
    "\n",
    "http://mlexplained.com/2018/02/15/language-modeling-tutorial-in-torchtext-practical-torchtext-part-2/"
   ]
  },
  {
   "cell_type": "code",
   "execution_count": 113,
   "metadata": {},
   "outputs": [],
   "source": [
    "data_dir = 'preprocessed'\n",
    "combined_fname = 'all-combined-data-processed.json'\n",
    "train_fname = 'train-trial-combined-data-processed.json'\n",
    "dev_fname = 'dev-data-processed.json'\n",
    "test_fname = 'test-data-processed.json'"
   ]
  },
  {
   "cell_type": "markdown",
   "metadata": {},
   "source": [
    "we have keys: 'id', 'd_words', 'd_pos', 'd_ner', 'q_words', 'q_pos', 'c_words', 'label', 'in_q', 'in_c', 'lemma_in_q', 'tf', 'p_q_relation', 'p_c_relation'"
   ]
  },
  {
   "cell_type": "code",
   "execution_count": 114,
   "metadata": {},
   "outputs": [
    {
     "name": "stdout",
     "output_type": "stream",
     "text": [
      "train: 20482, val: 2822, test: 5594\n"
     ]
    }
   ],
   "source": [
    "TEXT = data.ReversibleField(sequential=True, lower=True, include_lengths=True)\n",
    "\n",
    "train, val, test = data.TabularDataset.splits(\n",
    "    path=data_dir, train=train_fname,\n",
    "    validation=dev_fname, test=test_fname, format='json',\n",
    "    fields={'d_words': ('d_words', TEXT),\n",
    "            'q_words': ('q_words', TEXT),\n",
    "            'c_words': ('c_words', TEXT),\n",
    "            'label': ('label', data.Field(sequential=False, use_vocab=False))\n",
    "           })\n",
    "\n",
    "print('train: %d, val: %d, test: %d' % (len(train), len(val), len(test)))"
   ]
  },
  {
   "cell_type": "code",
   "execution_count": 115,
   "metadata": {},
   "outputs": [
    {
     "name": "stdout",
     "output_type": "stream",
     "text": [
      "vocab size: 10695\n"
     ]
    }
   ],
   "source": [
    "# combined is only used for building vocabulary\n",
    "combined = data.TabularDataset(\n",
    "    path=os.path.join(data_dir, combined_fname), format='json',\n",
    "    fields={'d_words': ('d_words', TEXT),\n",
    "            'q_words': ('q_words', TEXT),\n",
    "            'c_words': ('c_words', TEXT),\n",
    "            'label': ('label', data.Field(sequential=False, use_vocab=False))\n",
    "           })\n",
    "\n",
    "# TEXT.build_vocab(combined)\n",
    "TEXT.build_vocab(combined, vectors=embed_from)\n",
    "print('vocab size: %d' % len(TEXT.vocab))"
   ]
  },
  {
   "cell_type": "code",
   "execution_count": 116,
   "metadata": {},
   "outputs": [],
   "source": [
    "train_iter, val_iter, test_iter = data.Iterator.splits(\n",
    "        (train, val, test), batch_sizes=(batch_size_train, batch_size_eval, batch_size_eval), device=device, \n",
    "        sort_within_batch=False, repeat=False)"
   ]
  },
  {
   "cell_type": "markdown",
   "metadata": {},
   "source": [
    "# Create embedding"
   ]
  },
  {
   "cell_type": "code",
   "execution_count": 117,
   "metadata": {},
   "outputs": [],
   "source": [
    "embedding = nn.Embedding(len(TEXT.vocab), embed_dim)\n",
    "embedding.weight.data.copy_(TEXT.vocab.vectors)\n",
    "embedding.weight.requires_grad=False\n",
    "embedding = embedding.to(device)"
   ]
  },
  {
   "cell_type": "code",
   "execution_count": 118,
   "metadata": {},
   "outputs": [
    {
     "data": {
      "text/plain": [
       "torch.Size([10695, 50])"
      ]
     },
     "execution_count": 118,
     "metadata": {},
     "output_type": "execute_result"
    }
   ],
   "source": [
    "embedding.weight.shape"
   ]
  },
  {
   "cell_type": "markdown",
   "metadata": {},
   "source": [
    "# Build model\n",
    "refer to\n",
    "\n",
    "https://github.com/intfloat/commonsense-rc\n",
    "\n",
    "https://towardsdatascience.com/taming-lstms-variable-sized-mini-batches-and-why-pytorch-is-good-for-your-health-61d35642972e\n",
    "\n",
    "https://discuss.pytorch.org/t/solved-multiple-packedsequence-input-ordering/2106/23"
   ]
  },
  {
   "cell_type": "code",
   "execution_count": 212,
   "metadata": {},
   "outputs": [],
   "source": [
    "class BLSTM(nn.Module):\n",
    "    def __init__(self, input_dim, hidden_size, num_layers, rnn_dropout_rate):\n",
    "        super(BLSTM, self).__init__()\n",
    "        self.hidden_size = hidden_size\n",
    "        self.num_layers = num_layers\n",
    "        self.lstm = nn.LSTM(\n",
    "            input_size=input_dim,\n",
    "            hidden_size=hidden_size,\n",
    "            num_layers=num_layers,\n",
    "            batch_first=True,\n",
    "            dropout=rnn_dropout_rate,\n",
    "            bidirectional=True\n",
    "        )\n",
    "    \n",
    "    def forward(self, inputs, lengths):\n",
    "        \"\"\"\n",
    "        take inputs (embedded and padded), return outputs from lstm\n",
    "        \n",
    "        :param inputs: (batch_size, seq_len, embed_dim)\n",
    "        :param lengths: (batch_size)\n",
    "        :return: (batch_size, seq_len, hidden_size * 2)\n",
    "        \"\"\"\n",
    "        lengths_sorted, sorted_idx = lengths.sort(descending=True)\n",
    "        inputs_sorted = inputs[sorted_idx]\n",
    "    \n",
    "        inputs_packed = nn.utils.rnn.pack_padded_sequence(inputs_sorted, lengths_sorted.tolist(), batch_first=True)\n",
    "        outputs_packed, _ = self.lstm(inputs_packed)\n",
    "        outputs, _ = nn.utils.rnn.pad_packed_sequence(outputs_packed, batch_first=True)\n",
    "        \n",
    "        # Reverses sorting. \n",
    "        outputs = torch.zeros_like(outputs)\\\n",
    "            .scatter_(0, sorted_idx.unsqueeze(1).unsqueeze(1)\n",
    "                      .expand(-1, outputs.shape[1], outputs.shape[2]), outputs)\n",
    "        \n",
    "        return outputs"
   ]
  },
  {
   "cell_type": "code",
   "execution_count": 213,
   "metadata": {},
   "outputs": [],
   "source": [
    "def lengths_to_mask(lengths, dtype=torch.uint8):\n",
    "    \"\"\"\n",
    "    \n",
    "    :param lengths: (batch_size)\n",
    "    :param dtype: \n",
    "    :return: (batch_size, max_len)\n",
    "    \"\"\"\n",
    "    max_len = lengths.max().item()\n",
    "    mask = torch.arange(max_len,\n",
    "                        dtype=lengths.dtype).expand(len(lengths), max_len) < lengths.unsqueeze(1)\n",
    "\n",
    "    mask = torch.as_tensor(mask, dtype=dtype, device=device)\n",
    "    mask = 1 - mask\n",
    "    return mask"
   ]
  },
  {
   "cell_type": "code",
   "execution_count": 256,
   "metadata": {},
   "outputs": [],
   "source": [
    "class SeqAttnContext(nn.Module):\n",
    "    def __init__(self, embed_dim):\n",
    "        super(SeqAttnContext, self).__init__()\n",
    "        \n",
    "        self.proj = nn.Sequential(\n",
    "            nn.Linear(embed_dim, embed_dim),\n",
    "            nn.ReLU()\n",
    "        )\n",
    "        \n",
    "        self.softmax = nn.Softmax(dim=2)\n",
    "\n",
    "    def forward(self, x, y, y_mask):\n",
    "        \"\"\"\n",
    "        calculate context vectors for x on y using attention on y\n",
    "        \n",
    "        :param x: (batch_size, x_seq_len, embed_dim)\n",
    "        :param y: (batch_size, y_seq_len, embed_dim)\n",
    "        :param y_lengths: (batch_size)\n",
    "        :return: (batch_size, x_seq_len, embed_dim)\n",
    "        \"\"\"\n",
    "        x_proj = self.proj(x)\n",
    "        y_proj = self.proj(y)\n",
    "        \n",
    "        scores = x_proj.bmm(y_proj.transpose(2, 1))\n",
    "        \n",
    "        # mask scores\n",
    "        y_mask = y_mask.unsqueeze(1).expand(scores.size())\n",
    "        \n",
    "        scores.data.masked_fill_(y_mask.data, -float('inf'))\n",
    "        weights = self.softmax(scores)\n",
    "        \n",
    "        # Take weighted average\n",
    "        contexts = weights.bmm(y)\n",
    "        # here, instead of using y, maybe use another projection of y in the future\n",
    "        \n",
    "        return contexts"
   ]
  },
  {
   "cell_type": "code",
   "execution_count": 257,
   "metadata": {},
   "outputs": [],
   "source": [
    "class SelfAttnEncoder(nn.Module):\n",
    "    def __init__(self, input_dim):\n",
    "        super(SelfAttnEncoder, self).__init__()\n",
    "        self.linear = nn.Linear(input_dim, 1)\n",
    "        self.softmax = nn.Softmax(dim=1)\n",
    "        \n",
    "    def forward(self, inputs, mask):\n",
    "        \"\"\"\n",
    "        Summarize inputs into single vectors using self attention\n",
    "        \n",
    "        :param self: \n",
    "        :param inputs: (batch_size, seq_len, input_dim)\n",
    "        :param mask: (batch_size, seq_len)\n",
    "        :return: (batch_size, input_dim)\n",
    "        \"\"\"\n",
    "        scores = self.linear(inputs).squeeze(2)\n",
    "        scores.data.masked_fill_(mask.data, -float('inf'))\n",
    "        weights = self.softmax(scores) # (batch_size, seq_len)\n",
    "        \n",
    "        return weights.unsqueeze(1).bmm(inputs).squeeze(1)"
   ]
  },
  {
   "cell_type": "code",
   "execution_count": 258,
   "metadata": {},
   "outputs": [],
   "source": [
    "class TriAn(nn.Module):\n",
    "    def __init__(self, embedding):\n",
    "        super(TriAn, self).__init__()\n",
    "        self.embedding = embedding\n",
    "        self.d_rnn = BLSTM(embed_dim * 2, hidden_size, num_layers, rnn_dropout_rate)\n",
    "        self.q_rnn = BLSTM(embed_dim, hidden_size, num_layers, rnn_dropout_rate)\n",
    "        self.c_rnn = BLSTM(embed_dim * 3, hidden_size, num_layers, rnn_dropout_rate)\n",
    "        \n",
    "        self.embed_dropout = nn.Dropout(embed_dropout_rate)\n",
    "        \n",
    "        self.d_on_q_attn = SeqAttnContext(embed_dim)\n",
    "        self.c_on_q_attn = SeqAttnContext(embed_dim)\n",
    "        self.c_on_d_attn = SeqAttnContext(embed_dim)\n",
    "        \n",
    "        \n",
    "    \n",
    "    def forward(self, d_words, d_lengths, q_words, q_lengths, c_words, c_lengths):\n",
    "        # embed inputs\n",
    "        d_embed, q_embed, c_embed = self.embedding(d_words), \\\n",
    "            self.embedding(q_words), self.embedding(c_words)\n",
    "        d_embed, q_embed, c_embed = self.embed_dropout(d_embed), self.embed_dropout(q_embed),\\\n",
    "            self.embed_dropout(c_embed)\n",
    "        \n",
    "        # get masks\n",
    "        d_mask = lengths_to_mask(d_lengths)\n",
    "        q_mask = lengths_to_mask(q_lengths)\n",
    "        c_mask = lengths_to_mask(c_lengths)\n",
    "        \n",
    "        # get attention contexts\n",
    "        d_on_q_contexts = self.embed_dropout(self.d_on_q_attn(d_embed, q_embed, q_mask))\n",
    "        c_on_q_contexts = self.embed_dropout(self.c_on_q_attn(c_embed, q_embed, q_mask))\n",
    "        c_on_d_contexts = self.embed_dropout(self.c_on_d_attn(c_embed, d_embed, d_mask))\n",
    "        \n",
    "        # form final inputs for rnns\n",
    "        d_rnn_inputs = torch.cat([d_embed, d_on_q_contexts], dim=2)\n",
    "        q_rnn_inputs = torch.cat([q_embed], dim=2)\n",
    "        c_rnn_inputs = torch.cat([c_embed, c_on_q_contexts, c_on_d_contexts], dim=2)\n",
    "        \n",
    "        # calculate rnn outputs\n",
    "        d_rnn_outputs = self.d_rnn(d_rnn_inputs, d_lengths)\n",
    "        q_rnn_outputs = self.q_rnn(q_rnn_inputs, q_lengths)\n",
    "        c_rnn_outputs = self.c_rnn(c_rnn_inputs, c_lengths)\n",
    "        \n",
    "        # get final representations\n",
    "        d_rep = \n",
    "        \n",
    "        \n",
    "        \n",
    "        \n",
    "        \n",
    "        \n",
    "        return None\n",
    "        "
   ]
  },
  {
   "cell_type": "code",
   "execution_count": 259,
   "metadata": {},
   "outputs": [],
   "source": [
    "model = TriAn(embedding).to(device)"
   ]
  },
  {
   "cell_type": "code",
   "execution_count": 260,
   "metadata": {},
   "outputs": [
    {
     "name": "stdout",
     "output_type": "stream",
     "text": [
      "torch.Size([5, 6, 50])\n",
      "torch.Size([5, 50])\n"
     ]
    }
   ],
   "source": [
    "for i, batch in enumerate(train_iter):\n",
    "    d_words, d_lengths = batch.d_words\n",
    "    q_words, q_lengths = batch.q_words\n",
    "    c_words, c_lengths = batch.c_words\n",
    "    \n",
    "    d_words, d_lengths = torch.transpose(d_words, 0, 1).to(device), d_lengths.to(device)\n",
    "    q_words, q_lengths = torch.transpose(q_words, 0, 1).to(device), q_lengths.to(device)\n",
    "    c_words, c_lengths = torch.transpose(c_words, 0, 1).to(device), c_lengths.to(device)\n",
    "    \n",
    "    labels = batch.label.to(device)\n",
    "    \n",
    "    outputs = model(d_words, d_lengths, q_words, q_lengths, c_words, c_lengths)\n",
    "\n",
    "\n",
    "#     # for testing\n",
    "#     c_embed = embedding(c_words)\n",
    "#     c_mask = lengths_to_mask(c_lengths)\n",
    "# #     q_embed = embedding(q_words)\n",
    "\n",
    "#     sae = SelfAttnEncoder(embed_dim)\n",
    "#     outputs = sae(c_embed, c_mask)\n",
    "#     print(c_embed.shape)\n",
    "#     print(outputs.shape)\n",
    "    \n",
    "    \n",
    "\n",
    "    if i == 0:\n",
    "        break"
   ]
  },
  {
   "cell_type": "code",
   "execution_count": null,
   "metadata": {},
   "outputs": [],
   "source": []
  },
  {
   "cell_type": "code",
   "execution_count": null,
   "metadata": {},
   "outputs": [],
   "source": []
  }
 ],
 "metadata": {
  "kernelspec": {
   "display_name": "Python 3",
   "language": "python",
   "name": "python3"
  },
  "language_info": {
   "codemirror_mode": {
    "name": "ipython",
    "version": 3
   },
   "file_extension": ".py",
   "mimetype": "text/x-python",
   "name": "python",
   "nbconvert_exporter": "python",
   "pygments_lexer": "ipython3",
   "version": "3.6.5"
  }
 },
 "nbformat": 4,
 "nbformat_minor": 2
}
