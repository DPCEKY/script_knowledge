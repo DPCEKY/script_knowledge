{
 "cells": [
  {
   "cell_type": "code",
   "execution_count": 6,
   "metadata": {},
   "outputs": [
    {
     "name": "stdout",
     "output_type": "stream",
     "text": [
      "True\n"
     ]
    }
   ],
   "source": [
    "import numpy as np\n",
    "import torch\n",
    "import torch.nn as nn\n",
    "import torch.nn.functional as F\n",
    "import torchtext\n",
    "from torchtext import data\n",
    "import spacy\n",
    "import os\n",
    "import time\n",
    "import sys\n",
    "from torch.autograd import Variable\n",
    "from torch.optim import lr_scheduler\n",
    "\n",
    "USE_CUDA = torch.cuda.is_available()\n",
    "device = torch.device(\"cuda\" if USE_CUDA else \"cpu\")\n",
    "print(USE_CUDA)"
   ]
  },
  {
   "cell_type": "markdown",
   "metadata": {},
   "source": [
    "# Hyperparameters"
   ]
  },
  {
   "cell_type": "code",
   "execution_count": 7,
   "metadata": {},
   "outputs": [],
   "source": [
    "num_epoch = 20\n",
    "batch_size_train = 32\n",
    "batch_size_eval = 256\n",
    "embed_dim = 300\n",
    "# embed_from = \"glove.840B.300d\"\n",
    "hidden_size = 96\n",
    "num_layers = 1\n",
    "rnn_dropout_rate = 0\n",
    "embed_dropout_rate = 0.4\n",
    "grad_clipping = 10\n",
    "\n",
    "# rnn_output_dropout!!!"
   ]
  },
  {
   "cell_type": "markdown",
   "metadata": {},
   "source": [
    "# Load data\n",
    "refer to \n",
    "\n",
    "http://anie.me/On-Torchtext/\n",
    "\n",
    "http://mlexplained.com/2018/02/08/a-comprehensive-tutorial-to-torchtext/\n",
    "\n",
    "http://mlexplained.com/2018/02/15/language-modeling-tutorial-in-torchtext-practical-torchtext-part-2/"
   ]
  },
  {
   "cell_type": "code",
   "execution_count": 8,
   "metadata": {},
   "outputs": [],
   "source": [
    "data_dir = 'preprocessed'\n",
    "combined_fname = 'all-combined-data-processed.json'\n",
    "train_fname = 'train-trial-combined-data-processed.json'\n",
    "dev_fname = 'dev-data-processed.json'\n",
    "test_fname = 'test-data-processed.json'"
   ]
  },
  {
   "cell_type": "markdown",
   "metadata": {},
   "source": [
    "we have keys: 'id', 'd_words', 'd_pos', 'd_ner', 'q_words', 'q_pos', 'c_words', 'label', 'in_q', 'in_c', 'lemma_in_q', 'tf', 'p_q_relation', 'p_c_relation'"
   ]
  },
  {
   "cell_type": "code",
   "execution_count": 9,
   "metadata": {},
   "outputs": [
    {
     "name": "stdout",
     "output_type": "stream",
     "text": [
      "train: 20482, val: 2822, test: 5594\n"
     ]
    }
   ],
   "source": [
    "TEXT = data.ReversibleField(sequential=True, lower=True, include_lengths=True)\n",
    "\n",
    "train, val, test = data.TabularDataset.splits(\n",
    "    path=data_dir, train=train_fname,\n",
    "    validation=dev_fname, test=test_fname, format='json',\n",
    "    fields={'d_words': ('d_words', TEXT),\n",
    "            'q_words': ('q_words', TEXT),\n",
    "            'c_words': ('c_words', TEXT),\n",
    "            'label': ('label', data.Field(sequential=False, use_vocab=False))\n",
    "           })\n",
    "\n",
    "print('train: %d, val: %d, test: %d' % (len(train), len(val), len(test)))"
   ]
  },
  {
   "cell_type": "code",
   "execution_count": 10,
   "metadata": {},
   "outputs": [
    {
     "name": "stdout",
     "output_type": "stream",
     "text": [
      "vocab size: 10695\n"
     ]
    }
   ],
   "source": [
    "# combined is only used for building vocabulary\n",
    "combined = data.TabularDataset(\n",
    "    path=os.path.join(data_dir, combined_fname), format='json',\n",
    "    fields={'d_words': ('d_words', TEXT),\n",
    "            'q_words': ('q_words', TEXT),\n",
    "            'c_words': ('c_words', TEXT),\n",
    "            'label': ('label', data.Field(sequential=False, use_vocab=False))\n",
    "           })\n",
    "\n",
    "# specify the path to the localy saved vectors\n",
    "vec = torchtext.vocab.Vectors('glove.840B.300d.txt', data_dir)\n",
    "# TEXT.build_vocab(combined, vectors=embed_from)\n",
    "TEXT.build_vocab(combined, vectors=vec)\n",
    "print('vocab size: %d' % len(TEXT.vocab))"
   ]
  },
  {
   "cell_type": "code",
   "execution_count": 11,
   "metadata": {},
   "outputs": [
    {
     "name": "stdout",
     "output_type": "stream",
     "text": [
      "train batches: 641, val batches: 12, test batches: 22\n"
     ]
    }
   ],
   "source": [
    "train_iter, val_iter, test_iter = data.Iterator.splits(\n",
    "        (train, val, test), batch_sizes=(batch_size_train, batch_size_eval, batch_size_eval), \\\n",
    "    sort_key=lambda x: len(x.d_words), device=device, sort_within_batch=False, repeat=False)\n",
    "\n",
    "print('train batches: %d, val batches: %d, test batches: %d' % (len(train_iter), \\\n",
    "                                                                len(val_iter), len(test_iter)))"
   ]
  },
  {
   "cell_type": "markdown",
   "metadata": {},
   "source": [
    "# Create embedding"
   ]
  },
  {
   "cell_type": "code",
   "execution_count": 12,
   "metadata": {},
   "outputs": [],
   "source": [
    "embedding = nn.Embedding(len(TEXT.vocab), embed_dim)\n",
    "embedding.weight.data.copy_(TEXT.vocab.vectors)\n",
    "embedding.weight.requires_grad=False\n",
    "embedding = embedding.to(device)"
   ]
  },
  {
   "cell_type": "code",
   "execution_count": 13,
   "metadata": {},
   "outputs": [
    {
     "data": {
      "text/plain": [
       "torch.Size([10695, 300])"
      ]
     },
     "execution_count": 13,
     "metadata": {},
     "output_type": "execute_result"
    }
   ],
   "source": [
    "embedding.weight.shape"
   ]
  },
  {
   "cell_type": "markdown",
   "metadata": {},
   "source": [
    "# Build model\n",
    "refer to\n",
    "\n",
    "https://github.com/intfloat/commonsense-rc\n",
    "\n",
    "https://towardsdatascience.com/taming-lstms-variable-sized-mini-batches-and-why-pytorch-is-good-for-your-health-61d35642972e\n",
    "\n",
    "https://discuss.pytorch.org/t/solved-multiple-packedsequence-input-ordering/2106/23"
   ]
  },
  {
   "cell_type": "code",
   "execution_count": 14,
   "metadata": {},
   "outputs": [],
   "source": [
    "class BLSTM(nn.Module):\n",
    "    def __init__(self, input_dim, hidden_size, num_layers, rnn_dropout_rate):\n",
    "        super(BLSTM, self).__init__()\n",
    "        self.hidden_size = hidden_size\n",
    "        self.num_layers = num_layers\n",
    "        self.lstm = nn.LSTM(\n",
    "            input_size=input_dim,\n",
    "            hidden_size=hidden_size,\n",
    "            num_layers=num_layers,\n",
    "            batch_first=True,\n",
    "            dropout=rnn_dropout_rate,\n",
    "            bidirectional=True\n",
    "        )\n",
    "    \n",
    "    def forward(self, inputs, lengths):\n",
    "        \"\"\"\n",
    "        take inputs (embedded and padded), return outputs from lstm\n",
    "        \n",
    "        :param inputs: (batch_size, seq_len, embed_dim)\n",
    "        :param lengths: (batch_size)\n",
    "        :return: (batch_size, seq_len, hidden_size * 2)\n",
    "        \"\"\"\n",
    "        lengths_sorted, sorted_idx = lengths.sort(descending=True)\n",
    "        inputs_sorted = inputs[sorted_idx]\n",
    "    \n",
    "        inputs_packed = nn.utils.rnn.pack_padded_sequence(inputs_sorted, lengths_sorted.tolist(), batch_first=True)\n",
    "        outputs_packed, _ = self.lstm(inputs_packed)\n",
    "        outputs, _ = nn.utils.rnn.pad_packed_sequence(outputs_packed, batch_first=True)\n",
    "        \n",
    "        # Reverses sorting. \n",
    "        outputs = torch.zeros_like(outputs)\\\n",
    "            .scatter_(0, sorted_idx.unsqueeze(1).unsqueeze(1)\n",
    "                      .expand(-1, outputs.shape[1], outputs.shape[2]), outputs)\n",
    "        \n",
    "        return outputs"
   ]
  },
  {
   "cell_type": "code",
   "execution_count": 15,
   "metadata": {},
   "outputs": [],
   "source": [
    "def lengths_to_mask(lengths, dtype=torch.uint8):\n",
    "    \"\"\"\n",
    "    \n",
    "    :param lengths: (batch_size)\n",
    "    :param dtype: \n",
    "    :return: (batch_size, max_len)\n",
    "    \"\"\"\n",
    "    \n",
    "    lengths = lengths.cpu()\n",
    "    \n",
    "    max_len = lengths.max().item()\n",
    "    mask = torch.arange(max_len,\n",
    "                        dtype=lengths.dtype).expand(len(lengths), max_len) < lengths.unsqueeze(1)\n",
    "\n",
    "    mask = torch.as_tensor(mask, dtype=dtype, device=device)\n",
    "    mask = 1 - mask\n",
    "    return mask"
   ]
  },
  {
   "cell_type": "code",
   "execution_count": 16,
   "metadata": {},
   "outputs": [],
   "source": [
    "class SeqAttnContext(nn.Module):\n",
    "    def __init__(self, embed_dim):\n",
    "        super(SeqAttnContext, self).__init__()\n",
    "        \n",
    "        self.proj = nn.Sequential(\n",
    "            nn.Linear(embed_dim, embed_dim),\n",
    "            nn.ReLU()\n",
    "        )\n",
    "        \n",
    "        self.softmax = nn.Softmax(dim=2)\n",
    "\n",
    "    def forward(self, x, y, y_mask):\n",
    "        \"\"\"\n",
    "        calculate context vectors for x on y using attention on y\n",
    "        \n",
    "        :param x: (batch_size, x_seq_len, embed_dim)\n",
    "        :param y: (batch_size, y_seq_len, embed_dim)\n",
    "        :param y_lengths: (batch_size)\n",
    "        :return: (batch_size, x_seq_len, embed_dim)\n",
    "        \"\"\"\n",
    "        x_proj = self.proj(x)\n",
    "        y_proj = self.proj(y)\n",
    "        \n",
    "        scores = x_proj.bmm(y_proj.transpose(2, 1))\n",
    "        \n",
    "        # mask scores\n",
    "        y_mask = y_mask.unsqueeze(1).expand(scores.size())\n",
    "        \n",
    "        scores.data.masked_fill_(y_mask.data, -float('inf'))\n",
    "        weights = self.softmax(scores)\n",
    "        \n",
    "        # Take weighted average\n",
    "        contexts = weights.bmm(y)\n",
    "        # here, instead of using y, maybe use another projection of y in the future\n",
    "        \n",
    "        return contexts"
   ]
  },
  {
   "cell_type": "code",
   "execution_count": 17,
   "metadata": {},
   "outputs": [],
   "source": [
    "class BilinearAttnEncoder(nn.Module):\n",
    "    def __init__(self, x_dim, y_dim):\n",
    "        super(BilinearAttnEncoder, self).__init__()\n",
    "        self.linear = nn.Linear(y_dim, x_dim)\n",
    "        self.softmax = nn.Softmax(dim=1)\n",
    "    \n",
    "    def forward(self, x, y, x_mask):\n",
    "        \"\"\"\n",
    "        summarize x into single vectors using bilinear attention on y\n",
    "        \n",
    "        :param x: (batch_size, seq_len, x_dim)\n",
    "        :param y: (batch_size, y_dim)\n",
    "        :param x_mask: (batch_size, seq_len)\n",
    "        :return: \n",
    "        \"\"\"\n",
    "        y_proj = self.linear(y).unsqueeze(2)  # (batch_size, x_dim, 1)\n",
    "        scores = x.bmm(y_proj).squeeze(2)\n",
    "        \n",
    "        scores.data.masked_fill_(x_mask.data, -float('inf'))\n",
    "        weights = self.softmax(scores) # (batch_size, seq_len)\n",
    "        \n",
    "        return weights.unsqueeze(1).bmm(x).squeeze(1)"
   ]
  },
  {
   "cell_type": "code",
   "execution_count": 18,
   "metadata": {},
   "outputs": [],
   "source": [
    "class SelfAttnEncoder(nn.Module):\n",
    "    def __init__(self, input_dim):\n",
    "        super(SelfAttnEncoder, self).__init__()\n",
    "        self.linear = nn.Linear(input_dim, 1)\n",
    "        self.softmax = nn.Softmax(dim=1)\n",
    "        \n",
    "    def forward(self, inputs, mask):\n",
    "        \"\"\"\n",
    "        Summarize inputs into single vectors using self attention\n",
    "        \n",
    "        :param self: \n",
    "        :param inputs: (batch_size, seq_len, input_dim)\n",
    "        :param mask: (batch_size, seq_len)\n",
    "        :return: (batch_size, input_dim)\n",
    "        \"\"\"\n",
    "        scores = self.linear(inputs).squeeze(2)\n",
    "        scores.data.masked_fill_(mask.data, -float('inf'))\n",
    "        weights = self.softmax(scores) # (batch_size, seq_len)\n",
    "        \n",
    "        return weights.unsqueeze(1).bmm(inputs).squeeze(1)"
   ]
  },
  {
   "cell_type": "code",
   "execution_count": 19,
   "metadata": {},
   "outputs": [],
   "source": [
    "class Bilinear(nn.Module):\n",
    "    def __init__(self, x_dim, y_dim):\n",
    "        super(Bilinear, self).__init__()\n",
    "        self.linear = nn.Linear(x_dim, y_dim)\n",
    "    \n",
    "    def forward(self, x, y):\n",
    "        \"\"\"\n",
    "        Calculate the biliear function x*W*y\n",
    "        \n",
    "        :param x: (batch_size, x_dim)\n",
    "        :param y: (batch_size, y_dim)\n",
    "        :return: (batch_size)\n",
    "        \"\"\"\n",
    "        xW = self.linear(x)  # (batch_size, y_dim)\n",
    "        return xW.unsqueeze(1).bmm(y.unsqueeze(2)).view(-1)"
   ]
  },
  {
   "cell_type": "code",
   "execution_count": 20,
   "metadata": {},
   "outputs": [],
   "source": [
    "class TriAn(nn.Module):\n",
    "    def __init__(self, embedding):\n",
    "        super(TriAn, self).__init__()\n",
    "        self.embedding = embedding\n",
    "        self.d_rnn = BLSTM(embed_dim * 2, hidden_size, num_layers, rnn_dropout_rate)\n",
    "        self.q_rnn = BLSTM(embed_dim, hidden_size, num_layers, rnn_dropout_rate)\n",
    "        self.c_rnn = BLSTM(embed_dim * 3, hidden_size, num_layers, rnn_dropout_rate)\n",
    "        \n",
    "        self.embed_dropout = nn.Dropout(embed_dropout_rate)\n",
    "        \n",
    "        self.d_on_q_attn = SeqAttnContext(embed_dim)\n",
    "        self.c_on_q_attn = SeqAttnContext(embed_dim)\n",
    "        self.c_on_d_attn = SeqAttnContext(embed_dim)\n",
    "        \n",
    "        self.d_on_q_encode = BilinearAttnEncoder(hidden_size * 2, hidden_size * 2)\n",
    "        self.q_encode = SelfAttnEncoder(hidden_size * 2)\n",
    "        self.c_encode = SelfAttnEncoder(hidden_size * 2)\n",
    "        \n",
    "        self.d_c_bilinear = Bilinear(hidden_size * 2, hidden_size * 2)\n",
    "        self.q_c_bilinear = Bilinear(hidden_size * 2, hidden_size * 2)\n",
    "        \n",
    "        self.sigmoid = nn.Sigmoid()\n",
    "    \n",
    "    def forward(self, d_words, d_lengths, q_words, q_lengths, c_words, c_lengths):\n",
    "        # embed inputs\n",
    "        d_embed, q_embed, c_embed = self.embedding(d_words), \\\n",
    "            self.embedding(q_words), self.embedding(c_words)\n",
    "        d_embed, q_embed, c_embed = self.embed_dropout(d_embed), self.embed_dropout(q_embed),\\\n",
    "            self.embed_dropout(c_embed)\n",
    "        \n",
    "        # get masks\n",
    "        d_mask = lengths_to_mask(d_lengths)\n",
    "        q_mask = lengths_to_mask(q_lengths)\n",
    "        c_mask = lengths_to_mask(c_lengths)\n",
    "        \n",
    "        # get attention contexts\n",
    "        d_on_q_contexts = self.embed_dropout(self.d_on_q_attn(d_embed, q_embed, q_mask))\n",
    "        c_on_q_contexts = self.embed_dropout(self.c_on_q_attn(c_embed, q_embed, q_mask))\n",
    "        c_on_d_contexts = self.embed_dropout(self.c_on_d_attn(c_embed, d_embed, d_mask))\n",
    "        \n",
    "        # form final inputs for rnns\n",
    "        d_rnn_inputs = torch.cat([d_embed, d_on_q_contexts], dim=2)\n",
    "        q_rnn_inputs = torch.cat([q_embed], dim=2)\n",
    "        c_rnn_inputs = torch.cat([c_embed, c_on_q_contexts, c_on_d_contexts], dim=2)\n",
    "        \n",
    "        # calculate rnn outputs\n",
    "        d_rnn_outputs = self.d_rnn(d_rnn_inputs, d_lengths)\n",
    "        q_rnn_outputs = self.q_rnn(q_rnn_inputs, q_lengths)\n",
    "        c_rnn_outputs = self.c_rnn(c_rnn_inputs, c_lengths)        \n",
    "        \n",
    "        # get final representations\n",
    "        q_rep = self.q_encode(q_rnn_outputs, q_mask)\n",
    "        c_rep = self.c_encode(c_rnn_outputs, c_mask)\n",
    "        d_rep = self.d_on_q_encode(d_rnn_outputs, q_rep, d_mask)\n",
    "        \n",
    "        dWc = self.d_c_bilinear(d_rep, c_rep)\n",
    "        qWc = self.q_c_bilinear(q_rep, c_rep)\n",
    "        \n",
    "        logits = dWc + qWc\n",
    "        return self.sigmoid(logits)"
   ]
  },
  {
   "cell_type": "code",
   "execution_count": 21,
   "metadata": {},
   "outputs": [],
   "source": [
    "model = TriAn(embedding).to(device)\n",
    "\n",
    "criterion = nn.BCELoss().to(device)\n",
    "optimizer = torch.optim.SGD(model.parameters(), lr=0.1, momentum=0.9, weight_decay=1e-4)\n",
    "scheduler = lr_scheduler.StepLR(optimizer, step_size=6, gamma=0.1)"
   ]
  },
  {
   "cell_type": "markdown",
   "metadata": {},
   "source": [
    "# Train and test model"
   ]
  },
  {
   "cell_type": "code",
   "execution_count": 22,
   "metadata": {},
   "outputs": [],
   "source": [
    "def get_accuaracy(outputs, labels):\n",
    "    preds = (outputs > 0.5).float()\n",
    "    acc = torch.mean((preds==labels).float())\n",
    "    return acc"
   ]
  },
  {
   "cell_type": "code",
   "execution_count": 23,
   "metadata": {},
   "outputs": [],
   "source": [
    "def parse_batch(batch):\n",
    "    d_words, d_lengths = batch.d_words\n",
    "    q_words, q_lengths = batch.q_words\n",
    "    c_words, c_lengths = batch.c_words\n",
    "\n",
    "    d_words, d_lengths = torch.transpose(d_words, 0, 1), d_lengths\n",
    "    q_words, q_lengths = torch.transpose(q_words, 0, 1), q_lengths\n",
    "    c_words, c_lengths = torch.transpose(c_words, 0, 1), c_lengths\n",
    "\n",
    "    labels = batch.label.float()\n",
    "    \n",
    "    return d_words, d_lengths, q_words, q_lengths, c_words, c_lengths, labels"
   ]
  },
  {
   "cell_type": "code",
   "execution_count": 24,
   "metadata": {},
   "outputs": [],
   "source": [
    "def train_epoch():\n",
    "    scheduler.step()\n",
    "    model.train()\n",
    "    \n",
    "    epoch_losses = []\n",
    "    epoch_accus = []\n",
    "    \n",
    "    for i, batch in enumerate(train_iter):\n",
    "        # get batch\n",
    "        d_words, d_lengths, q_words, q_lengths, \\\n",
    "            c_words, c_lengths, labels = parse_batch(batch)\n",
    "        \n",
    "        # get outputs and loss\n",
    "        optimizer.zero_grad()\n",
    "        outputs = model(d_words, d_lengths, q_words, q_lengths, c_words, c_lengths)\n",
    "        loss = criterion(outputs, labels)\n",
    "        \n",
    "        # update model\n",
    "        loss.to(device)\n",
    "        loss.backward()\n",
    "        \n",
    "        _ = torch.nn.utils.clip_grad_norm_(model.parameters(), grad_clipping)\n",
    "        optimizer.step()\n",
    "        \n",
    "        # record losses and accuracies\n",
    "        epoch_losses.append(loss.item())\n",
    "        accu = get_accuaracy(outputs, labels)\n",
    "        epoch_accus.append(accu.item())\n",
    "#         break\n",
    "    \n",
    "    accu_avg = np.mean(np.array(epoch_accus))\n",
    "    loss_avg = np.mean(np.array(epoch_losses))\n",
    "    \n",
    "    return accu_avg, loss_avg"
   ]
  },
  {
   "cell_type": "code",
   "execution_count": 25,
   "metadata": {},
   "outputs": [],
   "source": [
    "def eval_epoch():\n",
    "    model.eval()\n",
    "    \n",
    "    epoch_losses = []\n",
    "    epoch_accus = []\n",
    "    \n",
    "    for i, batch in enumerate(val_iter):\n",
    "        # get batch\n",
    "        d_words, d_lengths, q_words, q_lengths, \\\n",
    "            c_words, c_lengths, labels = parse_batch(batch)\n",
    "        \n",
    "        # eval\n",
    "        with torch.no_grad():\n",
    "            outputs = model(d_words, d_lengths, q_words, q_lengths, c_words, c_lengths)\n",
    "            loss = criterion(outputs, labels)\n",
    "            # record losses and accuracies\n",
    "            epoch_losses.append(loss.item())\n",
    "            accu = get_accuaracy(outputs, labels)\n",
    "            epoch_accus.append(accu.item())\n",
    "#             break\n",
    "    \n",
    "    accu_avg = np.mean(np.array(epoch_accus))\n",
    "    loss_avg = np.mean(np.array(epoch_losses))\n",
    "    \n",
    "    return accu_avg, loss_avg"
   ]
  },
  {
   "cell_type": "code",
   "execution_count": 26,
   "metadata": {},
   "outputs": [
    {
     "name": "stdout",
     "output_type": "stream",
     "text": [
      "~~~~~~~~~~~~~~~~~~~~~~~~~~~~~~~~~~~~~~~~~~~~~~~~~~~~~~~~~~~~~~~~~~~~~~~~~~~~~~~~\n",
      "0th iteration took 88.75476956367493\n",
      "train_loss: 0.6797032227010326\n",
      "eval_loss: 0.6418466220299403\n",
      "train_accuracy: 0.5647425897035881\n",
      "eval_accuracy: 0.626410593589147\n",
      "~~~~~~~~~~~~~~~~~~~~~~~~~~~~~~~~~~~~~~~~~~~~~~~~~~~~~~~~~~~~~~~~~~~~~~~~~~~~~~~~\n",
      "1th iteration took 86.8627860546112\n",
      "train_loss: 0.6500595191990529\n",
      "eval_loss: 0.614257442454497\n",
      "train_accuracy: 0.607839313572543\n",
      "eval_accuracy: 0.6531033019224802\n",
      "~~~~~~~~~~~~~~~~~~~~~~~~~~~~~~~~~~~~~~~~~~~~~~~~~~~~~~~~~~~~~~~~~~~~~~~~~~~~~~~~\n",
      "2th iteration took 86.4866418838501\n",
      "train_loss: 0.6265578481503842\n",
      "eval_loss: 0.6632532874743143\n",
      "train_accuracy: 0.6371392355694228\n",
      "eval_accuracy: 0.6300998280445734\n",
      "~~~~~~~~~~~~~~~~~~~~~~~~~~~~~~~~~~~~~~~~~~~~~~~~~~~~~~~~~~~~~~~~~~~~~~~~~~~~~~~~\n",
      "3th iteration took 86.3681652545929\n",
      "train_loss: 0.6115103731289296\n",
      "eval_loss: 0.5993872433900833\n",
      "train_accuracy: 0.655811232449298\n",
      "eval_accuracy: 0.6548394113779068\n",
      "~~~~~~~~~~~~~~~~~~~~~~~~~~~~~~~~~~~~~~~~~~~~~~~~~~~~~~~~~~~~~~~~~~~~~~~~~~~~~~~~\n",
      "4th iteration took 86.30595445632935\n",
      "train_loss: 0.5979230249541784\n",
      "eval_loss: 0.5757790580391884\n",
      "train_accuracy: 0.6675604524180967\n",
      "eval_accuracy: 0.6905381977558136\n",
      "~~~~~~~~~~~~~~~~~~~~~~~~~~~~~~~~~~~~~~~~~~~~~~~~~~~~~~~~~~~~~~~~~~~~~~~~~~~~~~~~\n",
      "5th iteration took 86.32981848716736\n",
      "train_loss: 0.593293799903947\n",
      "eval_loss: 0.5773510833581289\n",
      "train_accuracy: 0.672191887675507\n",
      "eval_accuracy: 0.6691623280445734\n",
      "~~~~~~~~~~~~~~~~~~~~~~~~~~~~~~~~~~~~~~~~~~~~~~~~~~~~~~~~~~~~~~~~~~~~~~~~~~~~~~~~\n",
      "6th iteration took 86.44662404060364\n",
      "train_loss: 0.5521249757635054\n",
      "eval_loss: 0.5592514599363009\n",
      "train_accuracy: 0.7085120904836193\n",
      "eval_accuracy: 0.6952039947112402\n",
      "~~~~~~~~~~~~~~~~~~~~~~~~~~~~~~~~~~~~~~~~~~~~~~~~~~~~~~~~~~~~~~~~~~~~~~~~~~~~~~~~\n",
      "7th iteration took 86.0427610874176\n",
      "train_loss: 0.5422332524067712\n",
      "eval_loss: 0.5519003197550774\n",
      "train_accuracy: 0.7166536661466458\n",
      "eval_accuracy: 0.7030164947112402\n",
      "~~~~~~~~~~~~~~~~~~~~~~~~~~~~~~~~~~~~~~~~~~~~~~~~~~~~~~~~~~~~~~~~~~~~~~~~~~~~~~~~\n",
      "8th iteration took 86.5073459148407\n",
      "train_loss: 0.536916058307133\n",
      "eval_loss: 0.5458395679791769\n",
      "train_accuracy: 0.7210900936037441\n",
      "eval_accuracy: 0.7114800363779068\n",
      "~~~~~~~~~~~~~~~~~~~~~~~~~~~~~~~~~~~~~~~~~~~~~~~~~~~~~~~~~~~~~~~~~~~~~~~~~~~~~~~~\n",
      "9th iteration took 86.34618520736694\n",
      "train_loss: 0.5298591803834889\n",
      "eval_loss: 0.5457567051053047\n",
      "train_accuracy: 0.7294754290171607\n",
      "eval_accuracy: 0.7247178852558136\n",
      "~~~~~~~~~~~~~~~~~~~~~~~~~~~~~~~~~~~~~~~~~~~~~~~~~~~~~~~~~~~~~~~~~~~~~~~~~~~~~~~~\n",
      "10th iteration took 85.99742889404297\n",
      "train_loss: 0.523399275708682\n",
      "eval_loss: 0.5410027131438255\n",
      "train_accuracy: 0.7293779251170047\n",
      "eval_accuracy: 0.7305772602558136\n",
      "~~~~~~~~~~~~~~~~~~~~~~~~~~~~~~~~~~~~~~~~~~~~~~~~~~~~~~~~~~~~~~~~~~~~~~~~~~~~~~~~\n",
      "11th iteration took 86.20346689224243\n",
      "train_loss: 0.5164818009143687\n",
      "eval_loss: 0.5430761302510897\n",
      "train_accuracy: 0.7373244929797191\n",
      "eval_accuracy: 0.7296006977558136\n",
      "~~~~~~~~~~~~~~~~~~~~~~~~~~~~~~~~~~~~~~~~~~~~~~~~~~~~~~~~~~~~~~~~~~~~~~~~~~~~~~~~\n",
      "12th iteration took 86.22728323936462\n",
      "train_loss: 0.5063570629973866\n",
      "eval_loss: 0.5402034943302473\n",
      "train_accuracy: 0.7439547581903276\n",
      "eval_accuracy: 0.7179904530445734\n",
      "~~~~~~~~~~~~~~~~~~~~~~~~~~~~~~~~~~~~~~~~~~~~~~~~~~~~~~~~~~~~~~~~~~~~~~~~~~~~~~~~\n",
      "13th iteration took 86.03914952278137\n",
      "train_loss: 0.5024064002375521\n",
      "eval_loss: 0.5410929694771767\n",
      "train_accuracy: 0.7467336193447738\n",
      "eval_accuracy: 0.7179904530445734\n",
      "~~~~~~~~~~~~~~~~~~~~~~~~~~~~~~~~~~~~~~~~~~~~~~~~~~~~~~~~~~~~~~~~~~~~~~~~~~~~~~~~\n",
      "14th iteration took 86.35832738876343\n",
      "train_loss: 0.5023401094115283\n",
      "eval_loss: 0.5423375641306242\n",
      "train_accuracy: 0.7441497659906396\n",
      "eval_accuracy: 0.7282986144224802\n",
      "~~~~~~~~~~~~~~~~~~~~~~~~~~~~~~~~~~~~~~~~~~~~~~~~~~~~~~~~~~~~~~~~~~~~~~~~~~~~~~~~\n",
      "15th iteration took 86.71374249458313\n",
      "train_loss: 0.5028849131371042\n",
      "eval_loss: 0.5411124750971794\n",
      "train_accuracy: 0.7462948517940717\n",
      "eval_accuracy: 0.7157118072112402\n",
      "~~~~~~~~~~~~~~~~~~~~~~~~~~~~~~~~~~~~~~~~~~~~~~~~~~~~~~~~~~~~~~~~~~~~~~~~~~~~~~~~\n",
      "16th iteration took 86.19094562530518\n",
      "train_loss: 0.499349202455113\n",
      "eval_loss: 0.5414584005872408\n",
      "train_accuracy: 0.7462460998439937\n",
      "eval_accuracy: 0.7273220519224802\n",
      "~~~~~~~~~~~~~~~~~~~~~~~~~~~~~~~~~~~~~~~~~~~~~~~~~~~~~~~~~~~~~~~~~~~~~~~~~~~~~~~~\n",
      "17th iteration took 86.39344787597656\n",
      "train_loss: 0.5006789259624184\n",
      "eval_loss: 0.5413302207986513\n",
      "train_accuracy: 0.7480986739469578\n",
      "eval_accuracy: 0.730902781089147\n",
      "~~~~~~~~~~~~~~~~~~~~~~~~~~~~~~~~~~~~~~~~~~~~~~~~~~~~~~~~~~~~~~~~~~~~~~~~~~~~~~~~\n",
      "18th iteration took 86.25898933410645\n",
      "train_loss: 0.4998493310000149\n",
      "eval_loss: 0.540672056376934\n",
      "train_accuracy: 0.7441497659906396\n",
      "eval_accuracy: 0.731879343589147\n",
      "~~~~~~~~~~~~~~~~~~~~~~~~~~~~~~~~~~~~~~~~~~~~~~~~~~~~~~~~~~~~~~~~~~~~~~~~~~~~~~~~\n",
      "19th iteration took 86.13146424293518\n",
      "train_loss: 0.4984772216976154\n",
      "eval_loss: 0.5404040863116583\n",
      "train_accuracy: 0.7513650546021841\n",
      "eval_accuracy: 0.730902781089147\n"
     ]
    }
   ],
   "source": [
    "# training loop\n",
    "for epoch in range(num_epoch):\n",
    "    print('~' * 80)\n",
    "    start = time.time()\n",
    "    \n",
    "    train_accu, train_loss = train_epoch()\n",
    "    eval_accu, eval_loss = eval_epoch()\n",
    "    \n",
    "    end = time.time()\n",
    "    print('{}th iteration took {}'.format(epoch, end - start))\n",
    "    print('train_loss:', train_loss)\n",
    "    print('eval_loss:', eval_loss)\n",
    "    print('train_accuracy:', train_accu)\n",
    "    print('eval_accuracy:', eval_accu)\n",
    "    sys.stdout.flush()"
   ]
  },
  {
   "cell_type": "code",
   "execution_count": null,
   "metadata": {},
   "outputs": [],
   "source": []
  }
 ],
 "metadata": {
  "kernelspec": {
   "display_name": "Python 3",
   "language": "python",
   "name": "python3"
  },
  "language_info": {
   "codemirror_mode": {
    "name": "ipython",
    "version": 3
   },
   "file_extension": ".py",
   "mimetype": "text/x-python",
   "name": "python",
   "nbconvert_exporter": "python",
   "pygments_lexer": "ipython3",
   "version": "3.6.5"
  }
 },
 "nbformat": 4,
 "nbformat_minor": 2
}
