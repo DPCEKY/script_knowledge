{
 "cells": [
  {
   "cell_type": "code",
   "execution_count": 17,
   "metadata": {},
   "outputs": [],
   "source": [
    "wrong_examples = []\n",
    "\n",
    "with open('best-dev.log') as f:\n",
    "    data = f.readlines()\n",
    "    data = data[:7054]\n",
    "    \n",
    "    for i, line in enumerate(data):\n",
    "        if i % 5 == 0:\n",
    "            example = data[i:i+5]\n",
    "            c1 = data[i+2]\n",
    "            c2 = data[i+3]\n",
    "            \n",
    "            correct = 1  # will be 1/2\n",
    "            if c2[0] == '*':\n",
    "                correct = 2\n",
    "            c1_score = float(c1.split()[-1])\n",
    "            c2_score = float(c2.split()[-1])\n",
    "            \n",
    "            \n",
    "            if correct == 1 and c2_score > c1_score:\n",
    "                wrong_examples.append(example)\n",
    "            elif correct == 2 and c1_score > c2_score:\n",
    "                wrong_examples.append(example)"
   ]
  },
  {
   "cell_type": "code",
   "execution_count": 18,
   "metadata": {},
   "outputs": [
    {
     "name": "stdout",
     "output_type": "stream",
     "text": [
      "236\n"
     ]
    }
   ],
   "source": [
    "print(len(wrong_examples))"
   ]
  },
  {
   "cell_type": "code",
   "execution_count": 22,
   "metadata": {},
   "outputs": [],
   "source": [
    "with open('wrong-dev.log', 'w') as f:\n",
    "    for ex in wrong_examples:\n",
    "        for line in ex:\n",
    "            f.write(line)"
   ]
  },
  {
   "cell_type": "code",
   "execution_count": null,
   "metadata": {
    "collapsed": true
   },
   "outputs": [],
   "source": []
  }
 ],
 "metadata": {
  "kernelspec": {
   "display_name": "Python 3",
   "language": "python",
   "name": "python3"
  },
  "language_info": {
   "codemirror_mode": {
    "name": "ipython",
    "version": 3
   },
   "file_extension": ".py",
   "mimetype": "text/x-python",
   "name": "python",
   "nbconvert_exporter": "python",
   "pygments_lexer": "ipython3",
   "version": "3.6.3"
  }
 },
 "nbformat": 4,
 "nbformat_minor": 2
}
